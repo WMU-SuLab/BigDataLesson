{
 "cells": [
  {
   "attachments": {},
   "cell_type": "markdown",
   "metadata": {},
   "source": [
    "# 软件安装\n",
    "- Anaconda下载地址：<https://www.anaconda.com/products/distribution>\n",
    "- VSCode下载地址：<https://code.visualstudio.com>"
   ]
  },
  {
   "attachments": {},
   "cell_type": "markdown",
   "metadata": {},
   "source": [
    "# 环境安装\n",
    "\n",
    "- 如果之前安装的有问题\n",
    "  - 取消激活环境：`conda deactivate`\n",
    "  - 删除原来的环境：`conda remove -n pytorch --all -y`\n",
    "- 使用 conda 创建环境：`conda create -n pytorch python=3.10 -y`\n",
    "- 激活环境：`conda activate pytorch`\n",
    "- 安装 poetry：`pip install poetry -i https://pypi.tuna.tsinghua.edu.cn/simple`\n",
    "- 安装环境：`poetry install`\n"
   ]
  }
 ],
 "metadata": {
  "kernelspec": {
   "display_name": "algorithm",
   "language": "python",
   "name": "python3"
  },
  "language_info": {
   "name": "python",
   "version": "3.10.2"
  },
  "orig_nbformat": 4,
  "vscode": {
   "interpreter": {
    "hash": "0b9b1eea92fa5406da4b6856631a03c7281352a94acb3be925a05985f7dace9d"
   }
  }
 },
 "nbformat": 4,
 "nbformat_minor": 2
}
