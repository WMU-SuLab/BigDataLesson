{
 "cells": [
  {
   "attachments": {},
   "cell_type": "markdown",
   "metadata": {},
   "source": [
    "## 变量\n"
   ]
  },
  {
   "attachments": {},
   "cell_type": "markdown",
   "metadata": {},
   "source": [
    "一部分的名称是系统内置的，变量名不能与这些相同"
   ]
  },
  {
   "cell_type": "code",
   "execution_count": 2,
   "metadata": {},
   "outputs": [
    {
     "name": "stdout",
     "output_type": "stream",
     "text": [
      "\n",
      "Here is a list of the Python keywords.  Enter any keyword to get more help.\n",
      "\n",
      "False               class               from                or\n",
      "None                continue            global              pass\n",
      "True                def                 if                  raise\n",
      "and                 del                 import              return\n",
      "as                  elif                in                  try\n",
      "assert              else                is                  while\n",
      "async               except              lambda              with\n",
      "await               finally             nonlocal            yield\n",
      "break               for                 not                 \n",
      "\n"
     ]
    }
   ],
   "source": [
    "help('keywords')"
   ]
  },
  {
   "attachments": {},
   "cell_type": "markdown",
   "metadata": {},
   "source": [
    "或者使用下面的方法查看"
   ]
  },
  {
   "cell_type": "code",
   "execution_count": 3,
   "metadata": {},
   "outputs": [
    {
     "data": {
      "text/plain": [
       "['False',\n",
       " 'None',\n",
       " 'True',\n",
       " 'and',\n",
       " 'as',\n",
       " 'assert',\n",
       " 'async',\n",
       " 'await',\n",
       " 'break',\n",
       " 'class',\n",
       " 'continue',\n",
       " 'def',\n",
       " 'del',\n",
       " 'elif',\n",
       " 'else',\n",
       " 'except',\n",
       " 'finally',\n",
       " 'for',\n",
       " 'from',\n",
       " 'global',\n",
       " 'if',\n",
       " 'import',\n",
       " 'in',\n",
       " 'is',\n",
       " 'lambda',\n",
       " 'nonlocal',\n",
       " 'not',\n",
       " 'or',\n",
       " 'pass',\n",
       " 'raise',\n",
       " 'return',\n",
       " 'try',\n",
       " 'while',\n",
       " 'with',\n",
       " 'yield']"
      ]
     },
     "execution_count": 3,
     "metadata": {},
     "output_type": "execute_result"
    }
   ],
   "source": [
    "#导入keyword 模块\n",
    "import keyword\n",
    "#显示所有关键字\n",
    "keyword.kwlist"
   ]
  },
  {
   "attachments": {},
   "cell_type": "markdown",
   "metadata": {},
   "source": [
    "- 还有一些是Python内置函数，虽然可以当做变量名称，但是会导致代码运行和想象中的不一致\n",
    "| abs()          | all()        | any()       | basestring() | bin()         |\n",
    "| -------------- | ------------ | ----------- | ------------ | ------------- |\n",
    "| bool()         | bytearray()  | callable()  | chr()        | classmethod() |\n",
    "| cmp()          | compile()    | complex()   | delattr()    | dict()        |\n",
    "| dir()          | divmod()     | enumerate() | eval()       | execfile()    |\n",
    "| file()         | filter()     | float()     | format()     | frozenset()   |\n",
    "| getattr()      | globals()    | hasattr()   | hash()       | help()        |\n",
    "| hex()          | id()         | input()     | int()        | isinstance()  |\n",
    "| issubclass()   | iter()       | len()       | list()       | locals()      |\n",
    "| long()         | map()        | max()       | memoryview() | min()         |\n",
    "| next()         | object()     | oct()       | open()       | ord()         |\n",
    "| pow()          | print()      | property()  | range()      | raw_input()   |\n",
    "| reduce()       | reload()     | repr()      | reversed()   | zip()         |\n",
    "| round()        | set()        | setattr()   | slice()      | sorted()      |\n",
    "| staticmethod() | str()        | sum()       | super()      | tuple()       |\n",
    "| type()         | unichr()     | unicode()   | vars()       | xrange()      |\n",
    "| Zip()          | __import__() | apply()     | buffer()     | coerce()      |\n",
    "| intern         |              |             |              |               |\n",
    "\n",
    "- 命名规范参考：<https://blog.csdn.net/weixin_46442179/article/details/123442548>"
   ]
  },
  {
   "cell_type": "code",
   "execution_count": 4,
   "metadata": {},
   "outputs": [
    {
     "ename": "TypeError",
     "evalue": "'int' object is not callable",
     "output_type": "error",
     "traceback": [
      "\u001b[1;31m---------------------------------------------------------------------------\u001b[0m",
      "\u001b[1;31mTypeError\u001b[0m                                 Traceback (most recent call last)",
      "\u001b[1;32mc:\\Users\\dikli\\OneDrive\\学习\\Coding\\Python\\Learn\\BigDataLesson\\1-Python基础语法.ipynb 单元格 7\u001b[0m in \u001b[0;36m<module>\u001b[1;34m\u001b[0m\n\u001b[0;32m      <a href='vscode-notebook-cell:/c%3A/Users/dikli/OneDrive/%E5%AD%A6%E4%B9%A0/Coding/Python/Learn/BigDataLesson/1-Python%E5%9F%BA%E7%A1%80%E8%AF%AD%E6%B3%95.ipynb#Y352sZmlsZQ%3D%3D?line=0'>1</a>\u001b[0m \u001b[39mprint\u001b[39m\u001b[39m=\u001b[39m\u001b[39m1\u001b[39m\n\u001b[1;32m----> <a href='vscode-notebook-cell:/c%3A/Users/dikli/OneDrive/%E5%AD%A6%E4%B9%A0/Coding/Python/Learn/BigDataLesson/1-Python%E5%9F%BA%E7%A1%80%E8%AF%AD%E6%B3%95.ipynb#Y352sZmlsZQ%3D%3D?line=1'>2</a>\u001b[0m \u001b[39mprint\u001b[39;49m(\u001b[39m'\u001b[39;49m\u001b[39mdss\u001b[39;49m\u001b[39m'\u001b[39;49m)\n",
      "\u001b[1;31mTypeError\u001b[0m: 'int' object is not callable"
     ]
    }
   ],
   "source": [
    "# 举例\n",
    "print=1\n",
    "print('dss')"
   ]
  },
  {
   "cell_type": "code",
   "execution_count": 5,
   "metadata": {},
   "outputs": [
    {
     "ename": "TypeError",
     "evalue": "'int' object is not callable",
     "output_type": "error",
     "traceback": [
      "\u001b[1;31m---------------------------------------------------------------------------\u001b[0m",
      "\u001b[1;31mTypeError\u001b[0m                                 Traceback (most recent call last)",
      "\u001b[1;32mc:\\Users\\dikli\\OneDrive\\学习\\Coding\\Python\\Learn\\BigDataLesson\\1-Python基础语法.ipynb 单元格 8\u001b[0m in \u001b[0;36m<module>\u001b[1;34m\u001b[0m\n\u001b[0;32m      <a href='vscode-notebook-cell:/c%3A/Users/dikli/OneDrive/%E5%AD%A6%E4%B9%A0/Coding/Python/Learn/BigDataLesson/1-Python%E5%9F%BA%E7%A1%80%E8%AF%AD%E6%B3%95.ipynb#W6sZmlsZQ%3D%3D?line=8'>9</a>\u001b[0m \u001b[39m# 布尔值\u001b[39;00m\n\u001b[0;32m     <a href='vscode-notebook-cell:/c%3A/Users/dikli/OneDrive/%E5%AD%A6%E4%B9%A0/Coding/Python/Learn/BigDataLesson/1-Python%E5%9F%BA%E7%A1%80%E8%AF%AD%E6%B3%95.ipynb#W6sZmlsZQ%3D%3D?line=9'>10</a>\u001b[0m flag \u001b[39m=\u001b[39m \u001b[39mFalse\u001b[39;00m\n\u001b[1;32m---> <a href='vscode-notebook-cell:/c%3A/Users/dikli/OneDrive/%E5%AD%A6%E4%B9%A0/Coding/Python/Learn/BigDataLesson/1-Python%E5%9F%BA%E7%A1%80%E8%AF%AD%E6%B3%95.ipynb#W6sZmlsZQ%3D%3D?line=10'>11</a>\u001b[0m \u001b[39mprint\u001b[39;49m(counter, miles, name, name2, flag)\n",
      "\u001b[1;31mTypeError\u001b[0m: 'int' object is not callable"
     ]
    }
   ],
   "source": [
    "# 整型变量\n",
    "counter = 100\n",
    "# 浮点型（小数）\n",
    "miles = 1000.0\n",
    "# 字符串\n",
    "name = \"John\"\n",
    "# 单引号和双引号大部分情况下没区别\n",
    "name2 = 'Tom'\n",
    "# 布尔值\n",
    "flag = False\n",
    "print(counter, miles, name, name2, flag)"
   ]
  },
  {
   "cell_type": "code",
   "execution_count": 2,
   "metadata": {},
   "outputs": [
    {
     "name": "stdout",
     "output_type": "stream",
     "text": [
      "1 1 1\n"
     ]
    }
   ],
   "source": [
    "# 多个变量赋值, Python 的写法比较简洁\n",
    "a = b = c = 1\n",
    "print(a, b, c)"
   ]
  },
  {
   "cell_type": "code",
   "execution_count": 3,
   "metadata": {},
   "outputs": [
    {
     "name": "stdout",
     "output_type": "stream",
     "text": [
      "1 2 3\n"
     ]
    }
   ],
   "source": [
    "# 多个变量同时赋值\n",
    "a, b, c = 1, 2, 3\n",
    "print(a, b, c)"
   ]
  },
  {
   "cell_type": "code",
   "execution_count": 4,
   "metadata": {},
   "outputs": [
    {
     "name": "stdout",
     "output_type": "stream",
     "text": [
      "1 2\n",
      "2 1\n"
     ]
    }
   ],
   "source": [
    "# 交换变量\n",
    "a, b = 1, 2\n",
    "print(a, b)\n",
    "a, b = b, a\n",
    "print(a, b)"
   ]
  },
  {
   "attachments": {},
   "cell_type": "markdown",
   "metadata": {},
   "source": [
    "Python是动态语言，即变量本身的类型不固定。\n",
    "\n",
    "与之对应的静态语言（如Java），在定义变量时，必须先指定变量类型，赋值时如不匹配会报错。"
   ]
  },
  {
   "cell_type": "code",
   "execution_count": 9,
   "metadata": {},
   "outputs": [
    {
     "name": "stdout",
     "output_type": "stream",
     "text": [
      "1\n",
      "<class 'int'>\n",
      "s\n",
      "<class 'str'>\n"
     ]
    }
   ],
   "source": [
    "# 定义一个整数变量\n",
    "a = 1\n",
    "print(a)\n",
    "print(type(a))\n",
    "\n",
    "# 变成字符串变量\n",
    "a = 's'\n",
    "print(a)\n",
    "print(type(a))"
   ]
  },
  {
   "attachments": {},
   "cell_type": "markdown",
   "metadata": {},
   "source": [
    "理解 Python 变量在内存中的表示\n",
    "当我们输入 a = 'ABC' 时，Python解释器做了2件事情：\n",
    "\n",
    "1. 在内存中创建了一个'ABC'的字符串，\n",
    "\n",
    "2. 在内存中创建了一个名为a的变量，并把它指向'ABC'。\n",
    "\n",
    "也可以把一个变量a赋值给另一个变量b，这个操作实际上是把变量b指向变量a所指向的数据"
   ]
  },
  {
   "cell_type": "code",
   "execution_count": 11,
   "metadata": {},
   "outputs": [
    {
     "name": "stdout",
     "output_type": "stream",
     "text": [
      "2920914348720\n",
      "2920914348720\n",
      "2920992683312\n",
      "2920914348720\n",
      "2920992683312\n"
     ]
    }
   ],
   "source": [
    "a = 'ABC'\n",
    "print(id(a))\n",
    "b = a\n",
    "print(id(b))\n",
    "a = 'XYZ'\n",
    "print(id(a))\n",
    "print(id('ABC'))\n",
    "print(id('XYZ'))"
   ]
  },
  {
   "cell_type": "code",
   "execution_count": 12,
   "metadata": {},
   "outputs": [
    {
     "name": "stdout",
     "output_type": "stream",
     "text": [
      "2920913043696\n",
      "2920913043728\n"
     ]
    }
   ],
   "source": [
    "# 变量内容发生变化后，内存地址会发生变化\n",
    "b= 1\n",
    "print(id(b))\n",
    "b = b + 1\n",
    "print(id(b))"
   ]
  },
  {
   "cell_type": "code",
   "execution_count": 5,
   "metadata": {},
   "outputs": [
    {
     "name": "stdout",
     "output_type": "stream",
     "text": [
      "2408472782608\n",
      "2408472783120\n"
     ]
    }
   ],
   "source": [
    "a = 257\n",
    "b = 257\n",
    "print(id(a))\n",
    "print(id(b))"
   ]
  },
  {
   "cell_type": "markdown",
   "metadata": {},
   "source": [
    "Python 有一些很优雅的设计，来提升性能，对于0-256这些常用的数字，Python 内部是有缓存的。"
   ]
  },
  {
   "attachments": {},
   "cell_type": "markdown",
   "metadata": {},
   "source": [
    "---\n",
    "\n",
    "## print() 格式化输出说明\n",
    "\n",
    "- %字符：标记转换说明符的开始\n",
    "\n",
    "- 转换标志：-表示左对齐；+表示在转换值之前要加上正负号；“”（空白字符）表示正数之前保留空格；0 表示转换值若位数不够则用 0 填充。\n",
    "\n",
    "- 最小字段宽度：转换后的字符串至少应该具有该值指定的宽度。如果是\\*，则宽度会从值元组中读出。\n",
    "\n",
    "- 点(.)后跟精度值：如果转换的是实数，精度值就表示出现在小数点后的位数。如果转换的是字符串，那么该数字就表示最大字段宽度。如果是\\*，那么精度将从元组中读出。\n",
    "\n",
    "- 字符串格式化转换类型。\n",
    "\n",
    "转换类型 含义\n",
    "\n",
    "- d,i：带符号的十进制整数\n",
    "- o：不带符号的八进制\n",
    "- u：不带符号的十进制\n",
    "- x：不带符号的十六进制（小写）\n",
    "- X：不带符号的十六进制（大写）\n",
    "- e：科学计数法表示的浮点数（小写）\n",
    "- E：科学计数法表示的浮点数（大写）\n",
    "- f,F：十进制浮点数\n",
    "- g：如果指数大于-4 或者小于精度值则和 e 相同，其他情况和 f 相同\n",
    "- G：如果指数大于-4 或者小于精度值则和 E 相同，其他情况和 F 相同\n",
    "- C：单字符（接受整数或者单字符字符串）\n",
    "- r：字符串（使用 repr 转换任意 python 对象)\n",
    "- s：字符串（使用 str 转换任意 python 对象）\n"
   ]
  },
  {
   "cell_type": "code",
   "execution_count": 14,
   "metadata": {},
   "outputs": [
    {
     "name": "stdout",
     "output_type": "stream",
     "text": [
      "     3.142\n",
      "pi = 3.142\n",
      "000003.142\n",
      "3.142     \n",
      "+3.141593\n"
     ]
    }
   ],
   "source": [
    "# 格式化 print 举例\n",
    "\n",
    "pi = 3.141592653\n",
    "\n",
    "print('%10.3f' % pi)  # 字段宽10，精度3\n",
    "\n",
    "print(\"pi = %.*f\" % (3, pi))  # 用*从后面的元组中读取字段宽度或精度\n",
    "\n",
    "print('%010.3f' % pi)  # 用0填充空白\n",
    "\n",
    "print('%-10.3f' % pi)  # 左对齐\n",
    "\n",
    "print('%+f' % pi)  # 显示正则表达式\n"
   ]
  },
  {
   "cell_type": "markdown",
   "metadata": {},
   "source": [
    "Python 从3.6版本开始引入 f-string，称为格式化字符串常量，主要目的是使格式化字符串的操作更加简便。f-string在形式上是以 f 或 F 修饰符引领的字符串（f'xxx' 或 F'xxx'），以大括号 {} 标明被替换的字段；f-string在本质上并不是字符串常量，而是一个在运行时运算求值的表达式。\n",
    "\n",
    "f-string 在功能方面不逊于传统的 %-formatting语句和 str.format()函数，同时性能又优于二者，且使用起来也更加简洁明了，因此对于 Python3.6及以后的版本，推荐使用f-string进行字符串格式化。"
   ]
  },
  {
   "cell_type": "code",
   "execution_count": 7,
   "metadata": {},
   "outputs": [
    {
     "name": "stdout",
     "output_type": "stream",
     "text": [
      "a is 3.141592653\n"
     ]
    },
    {
     "data": {
      "text/plain": [
       "'a is      3.142'"
      ]
     },
     "execution_count": 7,
     "metadata": {},
     "output_type": "execute_result"
    }
   ],
   "source": [
    "a = 3.141592653\n",
    "print(f'a is {a}')\n",
    "f'a is {a:10.3f}'"
   ]
  },
  {
   "attachments": {},
   "cell_type": "markdown",
   "metadata": {},
   "source": [
    "---\n",
    "\n",
    "## for 循环语句和 range() 函数\n",
    "\n",
    "Python 的循环语句主要是 for...in 循环，依次把 in 后面的 list 列表或 tuple 元组等中的每个元素迭代出来，进行循环；\n",
    "\n",
    "Python 也有 while 循环，一般情况下不用。\n",
    "\n",
    "`for x in ...` 循环就是把每个元素代入变量 x，然后执行后面缩进块的语句。\n",
    "\n",
    "如果是简单的按照次数的循环，一般用 range() 函数来产生一个可以生成迭代数字的序列。\n"
   ]
  },
  {
   "cell_type": "code",
   "execution_count": 16,
   "metadata": {},
   "outputs": [
    {
     "name": "stdout",
     "output_type": "stream",
     "text": [
      "a\n",
      "b\n",
      "c\n",
      "d\n",
      "e\n",
      "f\n"
     ]
    }
   ],
   "source": [
    "# 按照字符串进行迭代循环\n",
    "s = 'abcdef'\n",
    "for i in s:\n",
    "    print(i)"
   ]
  },
  {
   "cell_type": "code",
   "execution_count": 17,
   "metadata": {},
   "outputs": [
    {
     "name": "stdout",
     "output_type": "stream",
     "text": [
      "a\n",
      "b\n",
      "c\n"
     ]
    }
   ],
   "source": [
    "# 按照列表进行循环，列表内容为字符\n",
    "s = ['a', 'b', 'c']\n",
    "for i in s:\n",
    "    print(i)"
   ]
  },
  {
   "cell_type": "code",
   "execution_count": 10,
   "metadata": {},
   "outputs": [
    {
     "name": "stdout",
     "output_type": "stream",
     "text": [
      "0\n",
      "1\n",
      "2\n"
     ]
    }
   ],
   "source": [
    "# 按照列列表进行循环，列表内容为数字\n",
    "for i in range(3):    \n",
    "    print(i)"
   ]
  },
  {
   "attachments": {},
   "cell_type": "markdown",
   "metadata": {},
   "source": [
    "---\n",
    "\n",
    "## 循环语句 while\n",
    "\n",
    "while 循环是在 Python 中的循环结构之一。 while 执行循环中的内容，直到表达式变为假。\n",
    "\n",
    "表达式是指一个逻辑表达式，返回一个 True 或 False 值。\n",
    "\n",
    "一定要小心设置表达式，如果永远是 True 的话，循环就一直执行下去了，称之为死循环。\n",
    "\n",
    "大部分场景里，循环语句不建议使用 while，但有时候使用 while 语句会让程序很简洁。\n"
   ]
  },
  {
   "cell_type": "code",
   "execution_count": 19,
   "metadata": {},
   "outputs": [
    {
     "name": "stdout",
     "output_type": "stream",
     "text": [
      "The count is: 0\n",
      "The count is: 1\n",
      "The count is: 2\n",
      "The count is: 3\n",
      "The count is: 4\n",
      "The count is: 5\n",
      "The count is: 6\n",
      "The count is: 7\n",
      "The count is: 8\n",
      "Good bye!\n"
     ]
    }
   ],
   "source": [
    "# 用 while 进行循环\n",
    "\n",
    "count = 0\n",
    "while (count < 9):\n",
    "    print('The count is:', count)\n",
    "    count += 1\n",
    "\n",
    "print(\"Good bye!\")\n"
   ]
  },
  {
   "attachments": {},
   "cell_type": "markdown",
   "metadata": {},
   "source": [
    "---\n",
    "\n",
    "## range() 函数\n",
    "\n",
    "range() 函数产生一个等差序列，range(x,y,z)，表示从 x 到 y（不含 y），z 为步长，可以为负。\n"
   ]
  },
  {
   "cell_type": "code",
   "execution_count": null,
   "metadata": {},
   "outputs": [
    {
     "name": "stdout",
     "output_type": "stream",
     "text": [
      "1\n",
      "4\n",
      "7\n"
     ]
    }
   ],
   "source": [
    "for i in range(1,10,3):\n",
    "    print(i)"
   ]
  },
  {
   "cell_type": "code",
   "execution_count": null,
   "metadata": {},
   "outputs": [
    {
     "name": "stdout",
     "output_type": "stream",
     "text": [
      "10\n",
      "9\n",
      "8\n",
      "7\n",
      "6\n",
      "5\n",
      "4\n",
      "3\n"
     ]
    }
   ],
   "source": [
    "for i in range(10,2,-1):\n",
    "    print(i)"
   ]
  },
  {
   "cell_type": "code",
   "execution_count": null,
   "metadata": {},
   "outputs": [
    {
     "name": "stdout",
     "output_type": "stream",
     "text": [
      "109876543"
     ]
    }
   ],
   "source": [
    "# print 时候输出内容，可以不换行\n",
    "for i in range(10,2,-1):\n",
    "    print(i,end='')"
   ]
  },
  {
   "cell_type": "code",
   "execution_count": null,
   "metadata": {},
   "outputs": [
    {
     "name": "stdout",
     "output_type": "stream",
     "text": [
      "10,9,8,7,6,5,4,3,"
     ]
    }
   ],
   "source": [
    "# print 时候不换行,优雅的分割\n",
    "\n",
    "for i in range(10,2,-1):\n",
    "    print(i,end=',')"
   ]
  },
  {
   "cell_type": "code",
   "execution_count": null,
   "metadata": {},
   "outputs": [
    {
     "name": "stdout",
     "output_type": "stream",
     "text": [
      "0 Mary \n",
      "1 had\n",
      "2 a\n",
      "3 little \n",
      "4 lamb\n"
     ]
    }
   ],
   "source": [
    "# 同时获得列表中的序号和内容，可以这样写\n",
    "# len() 是获得列表的长度，可以理解为元素个数\n",
    "\n",
    "s = ['Mary ', 'had', 'a', 'little ', 'lamb']\n",
    "for i in range(len(s)):\n",
    "    print(i, s[i])\n"
   ]
  },
  {
   "cell_type": "code",
   "execution_count": null,
   "metadata": {},
   "outputs": [
    {
     "name": "stdout",
     "output_type": "stream",
     "text": [
      "0 Mary \n",
      "1 had\n",
      "2 a\n",
      "3 little \n",
      "4 lamb\n"
     ]
    }
   ],
   "source": [
    "# 更加好的写法, 使用 enumerate()\n",
    "\n",
    "s = ['Mary ', 'had', 'a', 'little ', 'lamb']\n",
    "for i, item in enumerate(s):\n",
    "    print(i, item)"
   ]
  },
  {
   "attachments": {},
   "cell_type": "markdown",
   "metadata": {},
   "source": [
    "---\n",
    "\n",
    "## 字符串\n",
    "\n",
    "字符串即有序的字符的集合，用来存储或表现基于文本的信息。在程序开发中字符串被广泛使用。\n",
    "Python 中使用单双引号都可以。\n"
   ]
  },
  {
   "cell_type": "code",
   "execution_count": null,
   "metadata": {},
   "outputs": [
    {
     "name": "stdout",
     "output_type": "stream",
     "text": [
      "spam\n"
     ]
    }
   ],
   "source": [
    "# 单引号\n",
    "\n",
    "a = 'spam' \n",
    "print(a)"
   ]
  },
  {
   "cell_type": "code",
   "execution_count": 11,
   "metadata": {},
   "outputs": [
    {
     "name": "stdout",
     "output_type": "stream",
     "text": [
      "spam\n",
      "spam's log\n",
      "spam\"s log\n"
     ]
    }
   ],
   "source": [
    "# 双引号\n",
    "\n",
    "a = \"spam\" \n",
    "print(a)\n",
    "b = \"spam's log\"\n",
    "print(b)\n",
    "c= 'spam\"s log'\n",
    "print(c)"
   ]
  },
  {
   "cell_type": "code",
   "execution_count": 12,
   "metadata": {},
   "outputs": [
    {
     "name": "stdout",
     "output_type": "stream",
     "text": [
      "multile lines\n",
      "this is an example\n",
      "0-环境安装.ipynb\n"
     ]
    }
   ],
   "source": [
    "# 多行字符串\n",
    "a = '''multile lines\n",
    "this is an example'''\n",
    "print(a)\n",
    "b=\"\"\"0-环境安装.ipynb\"\"\"\n",
    "print(b)"
   ]
  },
  {
   "cell_type": "code",
   "execution_count": null,
   "metadata": {},
   "outputs": [
    {
     "name": "stdout",
     "output_type": "stream",
     "text": [
      "a\n",
      "b\tc\n"
     ]
    }
   ],
   "source": [
    "s = 'a\\nb\\tc'  # 转义字符串\n",
    "print(s)"
   ]
  },
  {
   "cell_type": "code",
   "execution_count": null,
   "metadata": {},
   "outputs": [
    {
     "name": "stdout",
     "output_type": "stream",
     "text": [
      "C:\n",
      "ew\text.txt\n",
      "C:\\new\\text.txt\n"
     ]
    }
   ],
   "source": [
    "# 输出内容因为转义而发生变化\n",
    "a = 'C:\\new\\text.txt'\n",
    "print(a)\n",
    "\n",
    "# 输出内容不带转义\n",
    "b = r'C:\\new\\text.txt'\n",
    "print(b)"
   ]
  },
  {
   "cell_type": "code",
   "execution_count": 14,
   "metadata": {},
   "outputs": [
    {
     "name": "stdout",
     "output_type": "stream",
     "text": [
      "ABC.txt123\n",
      "ABC.txtABC.txt\n",
      "A\n",
      "t\n",
      "txt.CBA\n",
      "AB\n"
     ]
    }
   ],
   "source": [
    "# 常用的字符串表达式\n",
    "\n",
    "s = 'ABC.txt'\n",
    "print(s + '123')  # 字符串拼接\n",
    "print(s * 2)  # 重复\n",
    "print(s[0])  # 索引\n",
    "print(s[-1])\n",
    "print(s[::-1])  # 反转\n",
    "print(s[0:2]) # 切片\n"
   ]
  },
  {
   "cell_type": "code",
   "execution_count": 15,
   "metadata": {},
   "outputs": [
    {
     "name": "stdout",
     "output_type": "stream",
     "text": [
      "7\n",
      "abc.txt\n",
      "ABC.TXT\n",
      "True\n",
      "True\n"
     ]
    }
   ],
   "source": [
    "print(len(s))  # 长度\n",
    "print(s.lower()) # 小写转换\n",
    "print(s.upper()) # 大写转换\n",
    "print(s.endswith('.txt'))  # 后缀测试\n",
    "print('AB' in s) # 成员关系测试"
   ]
  },
  {
   "attachments": {},
   "cell_type": "markdown",
   "metadata": {},
   "source": [
    "---\n",
    "\n",
    "## 字符串处理\n",
    "\n",
    "字符串是程序中经常碰到的数据类型，字符串的很多处理和 list 有点像，但也有些区别\n"
   ]
  },
  {
   "cell_type": "code",
   "execution_count": null,
   "metadata": {},
   "outputs": [
    {
     "name": "stdout",
     "output_type": "stream",
     "text": [
      "True\n",
      "False\n",
      "False\n"
     ]
    }
   ],
   "source": [
    "# 判断是否是字母\n",
    "\n",
    "s1 = 'abcde'\n",
    "s2 = '12'\n",
    "s3 = '12s'\n",
    "print(s1.isalpha())\n",
    "print(s2.isalpha())\n",
    "print(s3.isalpha())"
   ]
  },
  {
   "cell_type": "code",
   "execution_count": null,
   "metadata": {},
   "outputs": [
    {
     "name": "stdout",
     "output_type": "stream",
     "text": [
      "True\n",
      "True\n",
      "False\n"
     ]
    }
   ],
   "source": [
    "# 判断是否是字母、是否是数字\n",
    "\n",
    "s1 = 'abcde'\n",
    "s2 = '12'\n",
    "s3 = '12s'\n",
    "print(s1.isalpha())\n",
    "print(s2.isdigit())\n",
    "print(s3.isalpha())"
   ]
  },
  {
   "cell_type": "code",
   "execution_count": null,
   "metadata": {},
   "outputs": [
    {
     "name": "stdout",
     "output_type": "stream",
     "text": [
      "True\n",
      "False\n"
     ]
    }
   ],
   "source": [
    "# 判断是否是小写\n",
    "\n",
    "s1 = 'abc'\n",
    "print(s1.islower())\n",
    "print(''.islower())"
   ]
  },
  {
   "cell_type": "code",
   "execution_count": null,
   "metadata": {},
   "outputs": [
    {
     "name": "stdout",
     "output_type": "stream",
     "text": [
      "True\n"
     ]
    }
   ],
   "source": [
    "# 判断是否是大写\n",
    "\n",
    "s1 = 'ABC'\n",
    "print(s1.isupper())"
   ]
  },
  {
   "cell_type": "code",
   "execution_count": null,
   "metadata": {},
   "outputs": [
    {
     "name": "stdout",
     "output_type": "stream",
     "text": [
      "True\n"
     ]
    }
   ],
   "source": [
    "# 是否字母数字混合\n",
    "\n",
    "s1 ='123abc'\n",
    "print(s1.isalnum())"
   ]
  },
  {
   "cell_type": "code",
   "execution_count": null,
   "metadata": {},
   "outputs": [
    {
     "name": "stdout",
     "output_type": "stream",
     "text": [
      "find it\n",
      "8\n"
     ]
    }
   ],
   "source": [
    "# 字符串查找\n",
    "\n",
    "s1 = 'What is your name'\n",
    "if s1.find('your') != -1:\n",
    "    print('find it')\n",
    "    print(s1.find('your'))"
   ]
  },
  {
   "cell_type": "code",
   "execution_count": null,
   "metadata": {},
   "outputs": [
    {
     "name": "stdout",
     "output_type": "stream",
     "text": [
      "find it\n"
     ]
    }
   ],
   "source": [
    "# 字符串查找的另外一种方式\n",
    "\n",
    "s1 = 'What is your name'\n",
    "if 'your' in s1 != -1:\n",
    "    print('find it')"
   ]
  },
  {
   "cell_type": "code",
   "execution_count": null,
   "metadata": {},
   "outputs": [
    {
     "name": "stdout",
     "output_type": "stream",
     "text": [
      "What is my name\n"
     ]
    }
   ],
   "source": [
    "# 字符串替换\n",
    "\n",
    "s1 = 'What is your name'\n",
    "s2 = s1.replace('your', 'my')\n",
    "print(s2)"
   ]
  },
  {
   "cell_type": "code",
   "execution_count": null,
   "metadata": {},
   "outputs": [
    {
     "name": "stdout",
     "output_type": "stream",
     "text": [
      "fedcba\n"
     ]
    }
   ],
   "source": [
    "# 字符串切片\n",
    "\n",
    "s1 = 'abcdef'\n",
    "s2 = s1[::-1]\n",
    "print(s2)"
   ]
  },
  {
   "cell_type": "code",
   "execution_count": null,
   "metadata": {},
   "outputs": [
    {
     "name": "stdout",
     "output_type": "stream",
     "text": [
      "['a', 'b', 'c', 'd', 'e', 'f']\n",
      "['', 'a', 'b', 'c', '', 'd', 'e', 'f']\n"
     ]
    }
   ],
   "source": [
    "# 字符串和列表的转换\n",
    "\n",
    "s1 = ' a b c  d e f'\n",
    "s2 = s1.split()\n",
    "s3 = s1.split(' ')\n",
    "print(s2)\n",
    "print(s3)"
   ]
  },
  {
   "cell_type": "code",
   "execution_count": null,
   "metadata": {},
   "outputs": [
    {
     "name": "stdout",
     "output_type": "stream",
     "text": [
      "abcdef\n",
      "ABCDEF\n"
     ]
    }
   ],
   "source": [
    "# 字符串转换为小写、大写\n",
    "\n",
    "s1 = 'aBCdef'\n",
    "print(s1.lower())\n",
    "print(s1.upper())"
   ]
  },
  {
   "cell_type": "code",
   "execution_count": null,
   "metadata": {},
   "outputs": [
    {
     "name": "stdout",
     "output_type": "stream",
     "text": [
      "a b c  d e f 12\n",
      "a b c  d e f   14\n",
      "   a b c  d e f\n"
     ]
    }
   ],
   "source": [
    "# 字符串去除空格\n",
    "\n",
    "s1 = '   a b c  d e f  '\n",
    "print(s1.strip(' '),len(s1.strip(' ')))\n",
    "print(s1.lstrip(' '),len(s1.lstrip(' ')))\n",
    "print(s1.rstrip(' '))"
   ]
  },
  {
   "cell_type": "code",
   "execution_count": null,
   "metadata": {},
   "outputs": [
    {
     "name": "stdout",
     "output_type": "stream",
     "text": [
      "012\n",
      "2302\n",
      "12  \n",
      "2302\n",
      "  12\n",
      "2302\n"
     ]
    }
   ],
   "source": [
    "# 字符串对齐\n",
    "\n",
    "s1 = '12'\n",
    "s2 = '2302'\n",
    "print(s1.zfill(3))\n",
    "print(s2.zfill(3))\n",
    "\n",
    "print(s1.ljust(4))\n",
    "print(s2.ljust(4))\n",
    "\n",
    "print(s1.rjust(4))\n",
    "print(s2.rjust(4))"
   ]
  },
  {
   "cell_type": "code",
   "execution_count": null,
   "metadata": {},
   "outputs": [
    {
     "name": "stdout",
     "output_type": "stream",
     "text": [
      "0976\n"
     ]
    }
   ],
   "source": [
    "a='12345679012456'\n",
    "print(a[8:4:-1])"
   ]
  },
  {
   "attachments": {},
   "cell_type": "markdown",
   "metadata": {},
   "source": [
    "---\n",
    "\n",
    "## list 列表用法\n",
    "\n",
    "列表是 Python 内置的一种数据类型。list 是一种可变、有序的集合，可以随时添加和删除其中的元素。\n",
    "列表是 Python 程序中最常用的数据类型之一，掌握列表的用法会大大提升 Python 的开发能力。\n",
    "\n",
    "列表的基本操作：\n",
    "\n",
    "- 创建列表\n",
    "- 访问列表中的元素\n",
    "- 增加元素\n",
    "- 删除元素\n",
    "- 排序\n",
    "- 多维\n",
    "- 保存和载入\n",
    "\n",
    "list 中除了保存一般的数字、字符以外，可以存储 Python 中各种复杂的数据类型，包括 list 本身、对象等。\n"
   ]
  },
  {
   "cell_type": "code",
   "execution_count": 17,
   "metadata": {},
   "outputs": [
    {
     "name": "stdout",
     "output_type": "stream",
     "text": [
      "['pig', 'cat', 'dog']\n",
      "cat\n",
      "dog\n"
     ]
    }
   ],
   "source": [
    "# 创建列表\n",
    "\n",
    "a = ['pig', 'cat', 'dog']\n",
    "\n",
    "print(a)\n",
    "\n",
    "# 用序号访问列表中的元素，支持双向\n",
    "# 列表支持一种比较复杂的切片式访问，后面会有专门提及\n",
    "print(a[1])\n",
    "print(a[-1])"
   ]
  },
  {
   "cell_type": "code",
   "execution_count": 2,
   "metadata": {},
   "outputs": [
    {
     "name": "stdout",
     "output_type": "stream",
     "text": [
      "['bird']\n",
      "['bird', 'snake']\n"
     ]
    }
   ],
   "source": [
    "# 列表初始化\n",
    "a = []\n",
    "\n",
    "# 列表末尾追加元素\n",
    "a.append('bird')\n",
    "print(a)\n",
    "a.append('snake')\n",
    "print(a)"
   ]
  },
  {
   "cell_type": "code",
   "execution_count": 18,
   "metadata": {},
   "outputs": [
    {
     "name": "stdout",
     "output_type": "stream",
     "text": [
      "['sheep', 'pig', 'cat', 'dog']\n"
     ]
    }
   ],
   "source": [
    "# 列表指定位置插入元素\n",
    "a.insert(0,'sheep')\n",
    "print(a)"
   ]
  },
  {
   "cell_type": "code",
   "execution_count": 4,
   "metadata": {},
   "outputs": [
    {
     "name": "stdout",
     "output_type": "stream",
     "text": [
      "['sheep', 'snake']\n"
     ]
    }
   ],
   "source": [
    "# 列表删除指定序号的元素\n",
    "\n",
    "a.pop(1)\n",
    "print(a)"
   ]
  },
  {
   "cell_type": "code",
   "execution_count": 5,
   "metadata": {},
   "outputs": [
    {
     "name": "stdout",
     "output_type": "stream",
     "text": [
      "['pig', 'cat']\n"
     ]
    }
   ],
   "source": [
    "# 列表删除指定内容的元素\n",
    "\n",
    "a = ['pig', 'cat', 'dog']\n",
    "a.remove('dog')\n",
    "print(a)"
   ]
  },
  {
   "cell_type": "code",
   "execution_count": 6,
   "metadata": {},
   "outputs": [
    {
     "name": "stdout",
     "output_type": "stream",
     "text": [
      "['cat', 'dog', 'pig', 'snake']\n",
      "['snake', 'pig', 'dog', 'cat']\n"
     ]
    }
   ],
   "source": [
    "# 列表排序\n",
    "\n",
    "a = ['pig', 'cat', 'dog', 'snake']\n",
    "a.sort()\n",
    "print(a)\n",
    "\n",
    "# 倒序\n",
    "a.sort(reverse = True)\n",
    "print(a)"
   ]
  },
  {
   "cell_type": "code",
   "execution_count": 7,
   "metadata": {},
   "outputs": [
    {
     "name": "stdout",
     "output_type": "stream",
     "text": [
      "[4, 3, 2, 1]\n"
     ]
    }
   ],
   "source": [
    "# 列表数字排序\n",
    "\n",
    "a = [1,2,3,4]\n",
    "a.sort(reverse = True)\n",
    "print(a)"
   ]
  },
  {
   "cell_type": "code",
   "execution_count": 8,
   "metadata": {},
   "outputs": [
    {
     "name": "stdout",
     "output_type": "stream",
     "text": [
      "[4, 3, 2, 1, ['cat1', 'cat2', 'cat3']]\n"
     ]
    }
   ],
   "source": [
    "# 列表追加另一个列表\n",
    "# 使用 append 一个列表的话，这个列表会以一个元素的方式追加到原来列表\n",
    "\n",
    "b = ['cat1', 'cat2', 'cat3']\n",
    "a.append(b)\n",
    "print(a)"
   ]
  },
  {
   "cell_type": "code",
   "execution_count": 19,
   "metadata": {},
   "outputs": [
    {
     "name": "stdout",
     "output_type": "stream",
     "text": [
      "['pig', 'cat', 'dog', 'snake', 'cat1', 'cat2', 'cat3']\n",
      "['pig', 'cat', 'dog', 'snake', 'cat1', 'cat2', 'cat3', 'cat1', 'cat2', 'cat3']\n"
     ]
    }
   ],
   "source": [
    "# 列表追加另一个列表的元素\n",
    "# 使用 extend 一个列表，会以元素的形式追加到原来的列表\n",
    "\n",
    "a = ['pig', 'cat', 'dog', 'snake']\n",
    "b = ['cat1', 'cat2', 'cat3']\n",
    "a.extend(b)\n",
    "print(a)"
   ]
  },
  {
   "cell_type": "code",
   "execution_count": 20,
   "metadata": {},
   "outputs": [
    {
     "name": "stdout",
     "output_type": "stream",
     "text": [
      "2\n"
     ]
    }
   ],
   "source": [
    "# 统计某个元素在列表中出现次数\n",
    "\n",
    "a = ['a','b','b','c']\n",
    "print(a.count('b'))"
   ]
  },
  {
   "attachments": {},
   "cell_type": "markdown",
   "metadata": {},
   "source": [
    "## list 练习\n"
   ]
  },
  {
   "cell_type": "markdown",
   "metadata": {},
   "source": [
    "1. 判断两个字符串的相似性"
   ]
  },
  {
   "cell_type": "code",
   "execution_count": 12,
   "metadata": {},
   "outputs": [
    {
     "name": "stdout",
     "output_type": "stream",
     "text": [
      "1.0\n",
      "0.8571428571428571\n",
      "0.11764705882352941\n",
      "0.5833333333333334\n"
     ]
    }
   ],
   "source": [
    "# 利用 Python 内置函数判断两个字符串的相似性\n",
    "\n",
    "from difflib import SequenceMatcher\n",
    "\n",
    "def similarity(a, b):\n",
    "    return SequenceMatcher(None, a, b).ratio()\n",
    "\n",
    "print(similarity('这是一个有趣的问题', '这是一个有趣的问题'))\n",
    "print(similarity('这是一个有趣的问题', '这基本上是一个有趣的问题'))\n",
    "print(similarity('这是一个有趣的问题', '高高的山上有只羊'))\n",
    "\n",
    "# 其实并不是那么聪明\n",
    "print(similarity('快捷支付是哪四要素', '快捷支付接口这里的四要素是什么'))\n",
    "\n",
    "# python 内置的 difflib 虽然不是那么智能，不过功能还是很强大的，可以用它很容易的制作出类似代码比较的工具"
   ]
  },
  {
   "cell_type": "markdown",
   "metadata": {},
   "source": [
    "---\n",
    "\n",
    "2. 给一个用户名列表（英文），输入开头几个字母，程序会搜索用户名列表中是否存在和开头字母类似的，并提示用户。执行效果如下：\n",
    "\n",
    "```\n",
    "please input name : C\n",
    "Do you want to find ['Candy', 'Chris']?1\n",
    "Chris\n",
    "```"
   ]
  },
  {
   "cell_type": "code",
   "execution_count": null,
   "metadata": {},
   "outputs": [],
   "source": [
    "# 补充用户名字，利用切片的例子\n",
    "name = ['Adam','Alex','Amy','Bob','Boom','Candy','Chris','David','Jason','Jasonstatham','Bill'];\n",
    "i_name = input('please input name : ')\n",
    "\n",
    "wname = [];\n",
    "for n in name:\n",
    "    if n[0:len(i_name)] == i_name:\n",
    "        wname.append(n);\n",
    "\n",
    "if len(wname) != 0:\n",
    "    number = input('Do you want to find %s?'%(wname))\n",
    "    print(wname[int(number)])\n",
    "else:\n",
    "    print('%s not find'%(i_name))"
   ]
  },
  {
   "cell_type": "markdown",
   "metadata": {},
   "source": [
    "3. 判断用户输入的是数字还是字符串\n",
    "\n",
    "有很多种方法，一般用的比较多也建议使用是的捕捉错误的办法，通过将输入的默认的字符串进行转换为数字，如果不能转换，说明用户输入的不是数字。\n",
    "这里介绍一种比较优雅的方法来判断是否输入的是数字，通过使用 `isdigit` 函数，顾名思义，就是判断是否是数字的函数。"
   ]
  },
  {
   "cell_type": "code",
   "execution_count": null,
   "metadata": {},
   "outputs": [
    {
     "name": "stdout",
     "output_type": "stream",
     "text": [
      "Enter number12\n",
      "Number \n"
     ]
    }
   ],
   "source": [
    "number  = input(\"Enter number\")\n",
    "if( number.isdigit()):\n",
    "    print(\"Number \")\n",
    "else:\n",
    "    print(\"String \")"
   ]
  },
  {
   "cell_type": "code",
   "execution_count": 15,
   "metadata": {},
   "outputs": [
    {
     "name": "stdout",
     "output_type": "stream",
     "text": [
      "['__add__', '__class__', '__contains__', '__delattr__', '__dir__', '__doc__', '__eq__', '__format__', '__ge__', '__getattribute__', '__getitem__', '__getnewargs__', '__gt__', '__hash__', '__init__', '__init_subclass__', '__iter__', '__le__', '__len__', '__lt__', '__mod__', '__mul__', '__ne__', '__new__', '__reduce__', '__reduce_ex__', '__repr__', '__rmod__', '__rmul__', '__setattr__', '__sizeof__', '__str__', '__subclasshook__', 'capitalize', 'casefold', 'center', 'count', 'encode', 'endswith', 'expandtabs', 'find', 'format', 'format_map', 'index', 'isalnum', 'isalpha', 'isascii', 'isdecimal', 'isdigit', 'isidentifier', 'islower', 'isnumeric', 'isprintable', 'isspace', 'istitle', 'isupper', 'join', 'ljust', 'lower', 'lstrip', 'maketrans', 'partition', 'removeprefix', 'removesuffix', 'replace', 'rfind', 'rindex', 'rjust', 'rpartition', 'rsplit', 'rstrip', 'split', 'splitlines', 'startswith', 'strip', 'swapcase', 'title', 'translate', 'upper', 'zfill']\n"
     ]
    }
   ],
   "source": [
    "# 看看 str 字符串有多少方法\n",
    "print(dir(str))"
   ]
  },
  {
   "cell_type": "markdown",
   "metadata": {},
   "source": [
    "> python判断字符串，str函数isdigit、isdecimal、isnumeric的区别 https://www.cnblogs.com/guigujun/p/6133057.html"
   ]
  },
  {
   "attachments": {},
   "cell_type": "markdown",
   "metadata": {},
   "source": [
    "---\n",
    "\n",
    "## 元组 Tuple 用法\n",
    "\n",
    "Tuple 也是一种有序列表，在存储数据方面和列表很相似，为了区分，我们叫它元组。\n",
    "Tuple 一旦内容存储后，就不能修改；这样的好处是数据很安全。\n",
    "\n",
    "应用范围：在我们需要使用列表功能的时候，但是又不需要改变这个列表的内容，用元组 Tuple 功能会很安全，不用担心程序中不小心修改了其内容。Python 在向函数传递多个参数的时候，就是采用元组，保证参数在被调用的过程中的安全。\n"
   ]
  },
  {
   "cell_type": "code",
   "execution_count": 16,
   "metadata": {},
   "outputs": [
    {
     "name": "stdout",
     "output_type": "stream",
     "text": [
      "('Tom', 'Jerry', 'Mary')\n"
     ]
    }
   ],
   "source": [
    "# 创建元组，用小括号\n",
    "\n",
    "t = ('Tom', 'Jerry', 'Mary')\n",
    "print(t)"
   ]
  },
  {
   "cell_type": "code",
   "execution_count": 17,
   "metadata": {},
   "outputs": [
    {
     "name": "stdout",
     "output_type": "stream",
     "text": [
      "Jerry\n"
     ]
    }
   ],
   "source": [
    "# 访问元组的元素\n",
    "\n",
    "print(t[1])"
   ]
  },
  {
   "cell_type": "code",
   "execution_count": 18,
   "metadata": {},
   "outputs": [
    {
     "ename": "AttributeError",
     "evalue": "'tuple' object has no attribute 'append'",
     "output_type": "error",
     "traceback": [
      "\u001b[1;31m---------------------------------------------------------------------------\u001b[0m",
      "\u001b[1;31mAttributeError\u001b[0m                            Traceback (most recent call last)",
      "Cell \u001b[1;32mIn[18], line 4\u001b[0m\n\u001b[0;32m      1\u001b[0m \u001b[39m# 元组创建后是不能修改的\u001b[39;00m\n\u001b[0;32m      2\u001b[0m \n\u001b[0;32m      3\u001b[0m \u001b[39m# 会报错\u001b[39;00m\n\u001b[1;32m----> 4\u001b[0m t\u001b[39m.\u001b[39;49mappend(\u001b[39m'\u001b[39m\u001b[39mSomeone\u001b[39m\u001b[39m'\u001b[39m)\n",
      "\u001b[1;31mAttributeError\u001b[0m: 'tuple' object has no attribute 'append'"
     ]
    }
   ],
   "source": [
    "# 元组创建后是不能修改的\n",
    "\n",
    "# 会报错\n",
    "t.append('Someone')"
   ]
  },
  {
   "cell_type": "code",
   "execution_count": 19,
   "metadata": {},
   "outputs": [
    {
     "ename": "TypeError",
     "evalue": "'tuple' object does not support item assignment",
     "output_type": "error",
     "traceback": [
      "\u001b[1;31m---------------------------------------------------------------------------\u001b[0m",
      "\u001b[1;31mTypeError\u001b[0m                                 Traceback (most recent call last)",
      "Cell \u001b[1;32mIn[19], line 5\u001b[0m\n\u001b[0;32m      1\u001b[0m \u001b[39m# 元组创建后是不能修改的\u001b[39;00m\n\u001b[0;32m      2\u001b[0m \n\u001b[0;32m      3\u001b[0m \u001b[39m# 像列表一样去定义值也会报错\u001b[39;00m\n\u001b[0;32m      4\u001b[0m \u001b[39m# 'tuple' object does not support item assignment\u001b[39;00m\n\u001b[1;32m----> 5\u001b[0m t[\u001b[39m1\u001b[39;49m] \u001b[39m=\u001b[39m \u001b[39m'\u001b[39m\u001b[39maaa\u001b[39m\u001b[39m'\u001b[39m\n",
      "\u001b[1;31mTypeError\u001b[0m: 'tuple' object does not support item assignment"
     ]
    }
   ],
   "source": [
    "# 元组创建后是不能修改的\n",
    "\n",
    "# 像列表一样去定义值也会报错\n",
    "# 'tuple' object does not support item assignment\n",
    "t[1] = 'aaa'"
   ]
  },
  {
   "cell_type": "code",
   "execution_count": 21,
   "metadata": {},
   "outputs": [
    {
     "name": "stdout",
     "output_type": "stream",
     "text": [
      "['__add__', '__class__', '__class_getitem__', '__contains__', '__delattr__', '__dir__', '__doc__', '__eq__', '__format__', '__ge__', '__getattribute__', '__getitem__', '__getnewargs__', '__gt__', '__hash__', '__init__', '__init_subclass__', '__iter__', '__le__', '__len__', '__lt__', '__mul__', '__ne__', '__new__', '__reduce__', '__reduce_ex__', '__repr__', '__rmul__', '__setattr__', '__sizeof__', '__str__', '__subclasshook__', 'count', 'index']\n",
      "['__add__', '__class__', '__class_getitem__', '__contains__', '__delattr__', '__delitem__', '__dir__', '__doc__', '__eq__', '__format__', '__ge__', '__getattribute__', '__getitem__', '__gt__', '__hash__', '__iadd__', '__imul__', '__init__', '__init_subclass__', '__iter__', '__le__', '__len__', '__lt__', '__mul__', '__ne__', '__new__', '__reduce__', '__reduce_ex__', '__repr__', '__reversed__', '__rmul__', '__setattr__', '__setitem__', '__sizeof__', '__str__', '__subclasshook__', 'append', 'clear', 'copy', 'count', 'extend', 'index', 'insert', 'pop', 'remove', 'reverse', 'sort']\n"
     ]
    }
   ],
   "source": [
    "# 看看 tuple 有什么方法，你会发现很少\n",
    "\n",
    "print(dir(tuple))\n",
    "print(dir(list))"
   ]
  },
  {
   "cell_type": "code",
   "execution_count": 21,
   "metadata": {},
   "outputs": [
    {
     "name": "stdout",
     "output_type": "stream",
     "text": [
      "(['A', 'B', 'C'], 100, 200)\n"
     ]
    }
   ],
   "source": [
    "# 创建复杂一点的元组\n",
    "\n",
    "t1  = ['A', 'B', 'C']\n",
    "t2 =(t1, 100, 200)\n",
    "print(t2)"
   ]
  },
  {
   "cell_type": "code",
   "execution_count": 24,
   "metadata": {},
   "outputs": [
    {
     "name": "stdout",
     "output_type": "stream",
     "text": [
      "[1, 2, 3]\n",
      "[1, 2, 3, 4]\n",
      "['A', 'B', 'C']\n",
      "(['A', 'B', 'C'], 100, 200)\n",
      "['A', 'B', 'C', 'D']\n",
      "(['A', 'B', 'C', 'D'], 100, 200)\n"
     ]
    }
   ],
   "source": [
    "# 变通的实现\"可变\"元组内容\n",
    "\n",
    "a=[1,2,3]\n",
    "print(a)\n",
    "b=a\n",
    "b.append(4)\n",
    "print(a)\n",
    "\n",
    "t1  = ['A', 'B', 'C']\n",
    "t2 =(t1, 100, 200)\n",
    "print(t1)\n",
    "print(t2)\n",
    "\n",
    "# tuple的每个元素，指向永远不变，但指向的元素本身是可变的\n",
    "t1.append('D')\n",
    "\n",
    "print(t1)\n",
    "print(t2)"
   ]
  },
  {
   "cell_type": "code",
   "execution_count": 23,
   "metadata": {},
   "outputs": [
    {
     "name": "stdout",
     "output_type": "stream",
     "text": [
      "<class 'int'>\n",
      "<class 'tuple'>\n",
      "(1,)\n"
     ]
    }
   ],
   "source": [
    "# 创建只有1个元素的元组\n",
    "\n",
    "# 下面这样是不行的\n",
    "t = (1)\n",
    "# l成了一个整数，因为这里的括号有歧义，被认作数学计算里的小括号\n",
    "print(type(t))\n",
    "\n",
    "# 1个元素的元组必须加逗号来消除歧义\n",
    "t = (1,)\n",
    "print(type(t))\n",
    "print(t)"
   ]
  },
  {
   "attachments": {},
   "cell_type": "markdown",
   "metadata": {},
   "source": [
    "---\n",
    "\n",
    "## 字典 dict 用法\n",
    "\n",
    "字典是另一种可变容器模型，可存储任意类型对象。\n",
    "\n",
    "字典的每个键值(key=>value)对用冒号(:)分割，每个对之间用逗号(,)分割，整个字典包括在花括号({})中，格式如 `d = {key1 : value1, key2 : value2 }`\n",
    "\n",
    "字典中的 key 值不可以重复（第一次定义后不能重复定义）。\n",
    "\n",
    "字典的几个特点：\n",
    "\n",
    "1. 查找和插入的速度极快，不会随着 key 的增加而变慢；\n",
    "2. 需要占用大量的内存，内存浪费多。\n",
    "\n",
    "而 list 相反：\n",
    "\n",
    "1. 查找和插入的时间随着元素的增加而增加；\n",
    "2. 占用空间小，浪费内存很少。\n",
    "\n",
    "字典的基本操作：\n",
    "\n",
    "- 创建字典\n",
    "- 访问字典中的 key-value\n",
    "- 修改字典中的 key-value\n",
    "- 获得字典中指定 key 的 value\n",
    "- 删除字典中的 key（value 也就消失了）\n"
   ]
  },
  {
   "cell_type": "code",
   "execution_count": 28,
   "metadata": {},
   "outputs": [
    {
     "name": "stdout",
     "output_type": "stream",
     "text": [
      "{'Tom': 95, 'Mary': 90, 'Tracy': 92}\n",
      "95\n"
     ]
    }
   ],
   "source": [
    "# 定义字典\n",
    "# 访问字典中的 key-value\n",
    "\n",
    "d = {'Tom': 95, 'Mary': 90, 'Tracy': 92}\n",
    "print(d)\n",
    "print(d['Tom'])"
   ]
  },
  {
   "cell_type": "code",
   "execution_count": 29,
   "metadata": {},
   "outputs": [
    {
     "name": "stdout",
     "output_type": "stream",
     "text": [
      "{'Tom': 95, 'Mary': 90, 'Tracy': 92, 'Hugo': 85}\n"
     ]
    }
   ],
   "source": [
    "# 字典增加元素，直接定义值即可\n",
    "\n",
    "d['Hugo'] = 85\n",
    "print(d)"
   ]
  },
  {
   "cell_type": "code",
   "execution_count": 30,
   "metadata": {},
   "outputs": [
    {
     "name": "stdout",
     "output_type": "stream",
     "text": [
      "{'Tom': 97, 'Mary': 90, 'Tracy': 92, 'Hugo': 85}\n",
      "True\n"
     ]
    },
    {
     "ename": "KeyError",
     "evalue": "'Tommy'",
     "output_type": "error",
     "traceback": [
      "\u001b[1;31m---------------------------------------------------------------------------\u001b[0m",
      "\u001b[1;31mKeyError\u001b[0m                                  Traceback (most recent call last)",
      "\u001b[1;32mc:\\Users\\dikli\\OneDrive\\学习\\Coding\\Python\\Learn\\BigDataLesson\\1-Python基础语法.ipynb 单元格 91\u001b[0m in \u001b[0;36m<module>\u001b[1;34m\u001b[0m\n\u001b[0;32m      <a href='vscode-notebook-cell:/c%3A/Users/dikli/OneDrive/%E5%AD%A6%E4%B9%A0/Coding/Python/Learn/BigDataLesson/1-Python%E5%9F%BA%E7%A1%80%E8%AF%AD%E6%B3%95.ipynb#Y156sZmlsZQ%3D%3D?line=6'>7</a>\u001b[0m \u001b[39mprint\u001b[39m(\u001b[39m'\u001b[39m\u001b[39mTom\u001b[39m\u001b[39m'\u001b[39m \u001b[39min\u001b[39;00m d)\n\u001b[0;32m      <a href='vscode-notebook-cell:/c%3A/Users/dikli/OneDrive/%E5%AD%A6%E4%B9%A0/Coding/Python/Learn/BigDataLesson/1-Python%E5%9F%BA%E7%A1%80%E8%AF%AD%E6%B3%95.ipynb#Y156sZmlsZQ%3D%3D?line=8'>9</a>\u001b[0m \u001b[39m# 去获得不存在的 key 的 value，会报错\u001b[39;00m\n\u001b[1;32m---> <a href='vscode-notebook-cell:/c%3A/Users/dikli/OneDrive/%E5%AD%A6%E4%B9%A0/Coding/Python/Learn/BigDataLesson/1-Python%E5%9F%BA%E7%A1%80%E8%AF%AD%E6%B3%95.ipynb#Y156sZmlsZQ%3D%3D?line=9'>10</a>\u001b[0m \u001b[39mprint\u001b[39m(d[\u001b[39m'\u001b[39;49m\u001b[39mTommy\u001b[39;49m\u001b[39m'\u001b[39;49m])\n",
      "\u001b[1;31mKeyError\u001b[0m: 'Tommy'"
     ]
    }
   ],
   "source": [
    "# 修改字典元素的值\n",
    "\n",
    "d['Tom'] = 97\n",
    "print(d)\n",
    "\n",
    "# 字典是否存在某个 key\n",
    "print('Tom' in d)\n",
    "\n",
    "# 去获得不存在的 key 的 value，会报错\n",
    "print(d['Tommy'])\n"
   ]
  },
  {
   "cell_type": "code",
   "execution_count": 32,
   "metadata": {},
   "outputs": [
    {
     "name": "stdout",
     "output_type": "stream",
     "text": [
      "80\n"
     ]
    }
   ],
   "source": [
    "# 如果要获得不存在的 key 的 value，可以设置默认值\n",
    "print(d.get('Tommy', 80))"
   ]
  },
  {
   "cell_type": "code",
   "execution_count": 28,
   "metadata": {},
   "outputs": [
    {
     "name": "stdout",
     "output_type": "stream",
     "text": [
      "{'Tom': 95, 'Mary': 90, 'Tracy': 92}\n",
      "{'Mary': 90, 'Tracy': 92}\n"
     ]
    }
   ],
   "source": [
    "# 字典删除 key\n",
    "\n",
    "d = {'Tom': 95, 'Mary': 90, 'Tracy': 92}\n",
    "print(d)\n",
    "\n",
    "# 删除 key\n",
    "d.pop('Tom')\n",
    "print(d)"
   ]
  },
  {
   "cell_type": "code",
   "execution_count": 38,
   "metadata": {},
   "outputs": [
    {
     "name": "stdout",
     "output_type": "stream",
     "text": [
      "{'id_0': 0, 'id_1': 3, 'id_2': 6, 'id_3': 9, 'id_4': 12, 'id_5': 15, 'id_6': 18, 'id_7': 21, 'id_8': 24, 'id_9': 27, 'id_10': 30, 'id_11': 33, 'id_12': 36, 'id_13': 39, 'id_14': 42, 'id_15': 45, 'id_16': 48, 'id_17': 51, 'id_18': 54, 'id_19': 57, 'id_20': 60, 'id_21': 63, 'id_22': 66, 'id_23': 69, 'id_24': 72, 'id_25': 75, 'id_26': 78, 'id_27': 81, 'id_28': 84, 'id_29': 87}\n",
      "{'id_0': 0, 'id_1': 3, 'id_2': 6, 'id_3': 9, 'id_4': 12, 'id_5': 15, 'id_6': 18, 'id_7': 21, 'id_8': 24, 'id_9': 27, 'id_10': 30, 'id_11': 33, 'id_12': 36, 'id_13': 39, 'id_14': 42, 'id_15': 45, 'id_16': 48, 'id_17': 51, 'id_18': 54, 'id_19': 57, 'id_20': 60, 'id_21': 63, 'id_22': 66, 'id_23': 69, 'id_24': 72, 'id_25': 75, 'id_26': 78, 'id_27': 81, 'id_28': 84, 'id_29': 87}\n",
      "30\n"
     ]
    }
   ],
   "source": [
    "# 获得字典的长度\n",
    "\n",
    "# 定义一个空的字典\n",
    "d = {}\n",
    "\n",
    "# 造一些字典内容\n",
    "# str 函数将整数转换为字符串\n",
    "for i in range(30):\n",
    "    d['id_'+str(i)] = i*3\n",
    "print(d)\n",
    "\n",
    "for i in range(30):\n",
    "    d[f'id_{i}'] = i*3\n",
    "print(d)\n",
    "\n",
    "print(len(d))"
   ]
  },
  {
   "cell_type": "markdown",
   "metadata": {},
   "source": [
    "---\n",
    "\n",
    "## 列表生成式\n",
    "\n",
    "列表生成式是 Python 内置的非常简单却强大的可以用来创建列表 list 的方法。\n",
    "\n",
    "大家都知道，要生成一个这样的 list：[1, 2, 3, 4, 5, 6, 7, 8, 9, 10]\n",
    "\n",
    "可以用 `list(range(1, 11))`\n",
    "\n",
    "那么如果要生成这样的 list：[1, 4, 9, 16, 25, 36, 49, 64, 81, 100]，应该怎么办呢？\n"
   ]
  },
  {
   "cell_type": "code",
   "execution_count": 30,
   "metadata": {},
   "outputs": [
    {
     "name": "stdout",
     "output_type": "stream",
     "text": [
      "[1, 2, 3, 4, 5, 6, 7, 8, 9, 10]\n"
     ]
    }
   ],
   "source": [
    "print(list(range(1,11)))"
   ]
  },
  {
   "cell_type": "code",
   "execution_count": 31,
   "metadata": {},
   "outputs": [
    {
     "name": "stdout",
     "output_type": "stream",
     "text": [
      "[1, 4, 9, 16, 25, 36, 49, 64, 81, 100]\n"
     ]
    }
   ],
   "source": [
    "# 用循环来生成\n",
    "\n",
    "list1 = []\n",
    "for x in range(1, 11):\n",
    "    list1.append(x * x)\n",
    "\n",
    "print(list1)"
   ]
  },
  {
   "cell_type": "code",
   "execution_count": 32,
   "metadata": {},
   "outputs": [
    {
     "name": "stdout",
     "output_type": "stream",
     "text": [
      "[1, 4, 9, 16, 25, 36, 49, 64, 81, 100]\n"
     ]
    }
   ],
   "source": [
    "# 用列表生成式\n",
    "# 是不是更加简洁和优雅？\n",
    "\n",
    "list1 = [x * x for x in range(1, 11)]\n",
    "print(list1)"
   ]
  },
  {
   "attachments": {},
   "cell_type": "markdown",
   "metadata": {},
   "source": [
    "### 列表生成式用法\n",
    "\n",
    "写列表生成式时，把要生成的元素 `x * x` 放到前面，后面跟 `for` 循环，就可以把 list 创建出来，十分有用。\n",
    "\n",
    "在列表生成式后面还可以加上判断，过滤出结果为偶数的结果\n",
    "\n",
    "[x * x for x in range(1, 11) if x % 2 == 0]\n"
   ]
  },
  {
   "cell_type": "code",
   "execution_count": 33,
   "metadata": {},
   "outputs": [
    {
     "data": {
      "text/plain": [
       "[4, 16, 36, 64, 100]"
      ]
     },
     "execution_count": 33,
     "metadata": {},
     "output_type": "execute_result"
    }
   ],
   "source": [
    "# 在列表生成式后面加上判断，过滤出结果为偶数的结果\n",
    "\n",
    "[x * x for x in range(1, 11) if x % 2 == 0 ]"
   ]
  },
  {
   "cell_type": "code",
   "execution_count": 34,
   "metadata": {},
   "outputs": [
    {
     "name": "stdout",
     "output_type": "stream",
     "text": [
      "[(3, 2), (4, 1), (5, 0)]\n"
     ]
    }
   ],
   "source": [
    "# 可以在列表生成式中使用双重循环\n",
    "# 输出一对元组，每个数在10以内，且加在一起等于5\n",
    "\n",
    "list1 = [(x, y) for x in range(10) for y in range(10) if x + y == 5 if x > y]\n",
    "\n",
    "print(list1)"
   ]
  },
  {
   "cell_type": "code",
   "execution_count": 36,
   "metadata": {},
   "outputs": [
    {
     "name": "stdout",
     "output_type": "stream",
     "text": [
      "['PerfLogs', 'Program Files', 'Program Files (x86)', 'ProgramData']\n"
     ]
    }
   ],
   "source": [
    "# 改进之前寻找目录下指定字母开头的文件的判断方式\n",
    "# 修改为使用列表生成式\n",
    "\n",
    "import os\n",
    "\n",
    "# 可以判断各类情况，比如第一个是大写的 P 字母, 用列表生成式的方式，代码精简了很多\n",
    "list1 =  [x for x in os.listdir('C:/') if x[0] == 'P']\n",
    "print(list1)"
   ]
  },
  {
   "attachments": {},
   "cell_type": "markdown",
   "metadata": {},
   "source": [
    "### 字典也可以用列表生成式生成\n",
    "\n",
    "可以理解列表生成式的改变被泛化了，可以用类似的方法来生成字典。\n",
    "\n",
    "zip() 函数用来把多个可迭代的对象作为参数，将对象中对应的元素打包成一个个元组，然后返回由这些元组组成的列表。所以像个拉链一样，将不同的可迭代对象装配起来。\n"
   ]
  },
  {
   "cell_type": "code",
   "execution_count": 37,
   "metadata": {},
   "outputs": [
    {
     "name": "stdout",
     "output_type": "stream",
     "text": [
      "<zip object at 0x00000203A321D780>\n"
     ]
    }
   ],
   "source": [
    "# zip 对象没有办法直接显示其内容，因为它也是一个可迭代的对象\n",
    "\n",
    "list1 = zip(range(5),'hello')\n",
    "print(list1)"
   ]
  },
  {
   "cell_type": "code",
   "execution_count": 38,
   "metadata": {},
   "outputs": [
    {
     "name": "stdout",
     "output_type": "stream",
     "text": [
      "0 h\n",
      "1 e\n",
      "2 l\n",
      "3 l\n",
      "4 o\n"
     ]
    }
   ],
   "source": [
    "# 我们用循环来读取 zip 输出的内容\n",
    "\n",
    "for k,v in zip(range(5),'hello'):\n",
    "    print(k,v)"
   ]
  },
  {
   "cell_type": "code",
   "execution_count": 39,
   "metadata": {},
   "outputs": [
    {
     "name": "stdout",
     "output_type": "stream",
     "text": [
      "{0: 'h', 1: 'e', 2: 'l', 3: 'l', 4: 'o', 5: ' ', 6: 'w', 7: 'o', 8: 'r', 9: 'l', 10: 'd'}\n"
     ]
    }
   ],
   "source": [
    "# 用列表生成式来生成字典\n",
    "\n",
    "s = 'hello world'\n",
    "dict1 = {k:v for (k,v) in zip(range(11),s)}\n",
    "print(dict1)"
   ]
  },
  {
   "cell_type": "code",
   "execution_count": 40,
   "metadata": {},
   "outputs": [
    {
     "name": "stdout",
     "output_type": "stream",
     "text": [
      "{0: 'h', 1: 'e', 2: 'l', 3: 'l', 4: 'o', 5: ' ', 6: 'w', 7: 'o', 8: 'r', 9: 'l', 10: 'd'}\n"
     ]
    }
   ],
   "source": [
    "# 也可以直接使用 dict() 类型转换，因为这里逻辑比较简单\n",
    "\n",
    "dict1 = dict(zip(range(11),s))\n",
    "print(dict1)"
   ]
  },
  {
   "cell_type": "code",
   "execution_count": 41,
   "metadata": {},
   "outputs": [
    {
     "name": "stdout",
     "output_type": "stream",
     "text": [
      "[range(0, 5), range(5, 10), range(10, 15)]\n",
      "[0, 1, 2, 3, 4, 5, 6, 7, 8, 9, 10, 11, 12, 13, 14]\n"
     ]
    }
   ],
   "source": [
    "# 将矩阵降维\n",
    "\n",
    "def list_flatten(matrix):\n",
    "    return [x for row in matrix for x in row]\n",
    "\n",
    "matrix = [range(0,5),range(5,10),range(10,15)]\n",
    "\n",
    "print(matrix)\n",
    "\n",
    "print(list_flatten(matrix))"
   ]
  },
  {
   "attachments": {},
   "cell_type": "markdown",
   "metadata": {},
   "source": [
    "---\n",
    "\n",
    "## 函数\n",
    "\n",
    "函数是组织好的、可重复使用的、用来实现单一或相关联功能的代码段。函数能提高应用的模块性，和代码的重复利用率。\n",
    "\n",
    "python 提供了许多内建函数，比如 print(), max()；\n",
    "\n",
    "python 提供的大量内建函数，可以满足绝大多数基本的功能，有时候 python 语言是瑞士军刀，就是这个意思。\n",
    "\n",
    "函数可以大大简化重复代码，降低工作量，减少错误。\n",
    "\n",
    "函数的基本语法\n",
    "\n",
    "```\n",
    "def 函数名称( 参数 ):\n",
    "    函数语句\n",
    "    return [值]\n",
    "```\n",
    "\n",
    "虽然 Python 内置了大量函数，但是大多数提供的是基本功能，有时候还是不能满足真正程序的需要；\n",
    "函数可以做的很复杂，发展为包(Package)。Python 目前有七万多个各类功能的包，几乎都可以可以免费使用在自己的程序中，这是最近几年 Python 飞速发展的原因之一。\n",
    "学会使用函数来简化程序之后，可以为以后学习面向对象的编程方法打好基础，也可以真正的开始使用 Python 来解决各类问题。\n"
   ]
  },
  {
   "cell_type": "code",
   "execution_count": 42,
   "metadata": {},
   "outputs": [
    {
     "name": "stdout",
     "output_type": "stream",
     "text": [
      "50.24\n",
      "113.03999999999999\n",
      "98.82239400000002\n"
     ]
    }
   ],
   "source": [
    "# 计算圆的面积\n",
    "# 不用函数的话，每次需要写一些重复的代码\n",
    "\n",
    "r1 = 4\n",
    "r2 = 6\n",
    "r3 = 5.61\n",
    "s1 = 3.14 * r1 * r1\n",
    "s2 = 3.14 * r2 * r2\n",
    "s3 = 3.14 * r3 * r3\n",
    "\n",
    "print(s1)\n",
    "print(s2)\n",
    "print(s3)"
   ]
  },
  {
   "cell_type": "code",
   "execution_count": 43,
   "metadata": {},
   "outputs": [
    {
     "name": "stdout",
     "output_type": "stream",
     "text": [
      "50.24\n",
      "113.03999999999999\n",
      "98.82239400000002\n"
     ]
    }
   ],
   "source": [
    "# 定义一个函数，用来计算圆面积\n",
    "# 输入 半径，返回 圆面积\n",
    "\n",
    "def func1(r):\n",
    "    s = 3.14 * r * r\n",
    "    return s\n",
    "\n",
    "print(func1(4))\n",
    "print(func1(6))\n",
    "print(func1(5.61))"
   ]
  },
  {
   "cell_type": "code",
   "execution_count": 44,
   "metadata": {},
   "outputs": [
    {
     "name": "stdout",
     "output_type": "stream",
     "text": [
      "5\n",
      "9\n"
     ]
    }
   ],
   "source": [
    "# 先来看看 python 内置的获取最大值的函数\n",
    "\n",
    "print(max(1,5))\n",
    "\n",
    "print(max(1,4,6,3,9))"
   ]
  },
  {
   "cell_type": "code",
   "execution_count": 45,
   "metadata": {},
   "outputs": [
    {
     "name": "stdout",
     "output_type": "stream",
     "text": [
      "6\n"
     ]
    }
   ],
   "source": [
    "# 请注意，函数体内部的语句在执行时，一旦执行到return时，函数就执行完毕，并将结果返回。\n",
    "# 因此，函数内部通过条件判断和循环可以实现非常复杂的逻辑。\n",
    "# 从优雅的写法来说，不是很推荐一个函数内有多个返回点的方式，但是有时候这样写的确很方便\n",
    "\n",
    "def my_max(a,b):\n",
    "    if a > b:\n",
    "        return a\n",
    "    else:\n",
    "        return b\n",
    "    \n",
    "print(my_max(3,6))"
   ]
  },
  {
   "cell_type": "markdown",
   "metadata": {},
   "source": [
    "如果上面的函数要修改成只有一个 return 应该怎么修改呢？"
   ]
  },
  {
   "cell_type": "code",
   "execution_count": 46,
   "metadata": {},
   "outputs": [
    {
     "name": "stdout",
     "output_type": "stream",
     "text": [
      "6\n"
     ]
    }
   ],
   "source": [
    "def my_max(a,b):\n",
    "    if a > b:\n",
    "        c = a\n",
    "    else:\n",
    "        c = b\n",
    "        \n",
    "    return c\n",
    "\n",
    "print(my_max(3,6))"
   ]
  },
  {
   "cell_type": "code",
   "execution_count": 47,
   "metadata": {},
   "outputs": [
    {
     "name": "stdout",
     "output_type": "stream",
     "text": [
      "<class 'tuple'>\n",
      "100\n"
     ]
    }
   ],
   "source": [
    "# *number 这样的写法，可以理解为传入任意数目个参数，包括0个参数，就是在参数名称前面加上一个 * \n",
    "# 为了简化程序逻辑，返回的结果现在是假的，后面我们会再修改\n",
    "\n",
    "def my_max(*number):\n",
    "    print(type(number))\n",
    "    return 100\n",
    "\n",
    "print(my_max(1,5,30,14,25))"
   ]
  },
  {
   "cell_type": "code",
   "execution_count": 48,
   "metadata": {},
   "outputs": [
    {
     "name": "stdout",
     "output_type": "stream",
     "text": [
      "30\n"
     ]
    }
   ],
   "source": [
    "# 用列表来排序，来完成这个取得任意值的最大值的函数\n",
    "\n",
    "def my_max(*number):\n",
    "    a_list = list(number)\n",
    "    a_list.sort()\n",
    "    a = a_list[-1]\n",
    "    return a\n",
    "\n",
    "print(my_max(1,5,30,14,25))"
   ]
  },
  {
   "cell_type": "code",
   "execution_count": 49,
   "metadata": {},
   "outputs": [
    {
     "name": "stdout",
     "output_type": "stream",
     "text": [
      "(30, 1)\n"
     ]
    }
   ],
   "source": [
    "# Python的函数返回多值其实就是返回一个tuple，但语法上可以省略括号，写起来更方便\n",
    "\n",
    "# 同时返回最大值和最小值\n",
    "\n",
    "def my_max_min(*number):\n",
    "    a_list = list(number)\n",
    "    a_list.sort()\n",
    "    my_max = a_list[-1]\n",
    "    my_min = a_list[0]\n",
    "    return my_max, my_min\n",
    "\n",
    "print(my_max_min(1,5,30,14,25))  "
   ]
  },
  {
   "cell_type": "markdown",
   "metadata": {},
   "source": [
    "* 写一个函数，输入一个数字，判断其是否是偶数，是偶数的话，返回 True，反之返回 False\n",
    "* 写一个函数，输入一个英文单词，返回其中的元音字母的个数"
   ]
  },
  {
   "cell_type": "code",
   "execution_count": 51,
   "metadata": {},
   "outputs": [
    {
     "name": "stdout",
     "output_type": "stream",
     "text": [
      "False\n"
     ]
    }
   ],
   "source": [
    "# 判断奇偶数\n",
    "\n",
    "a = int(input('Input a number:'))\n",
    "\n",
    "def oushu():\n",
    "    if int(a/2) == a/2:\n",
    "        return True\n",
    "        #print('这是个偶数')\n",
    "    else:\n",
    "        return False\n",
    "        #print('这是个奇数')\n",
    "        \n",
    "result = oushu()   \n",
    "print(result)"
   ]
  },
  {
   "cell_type": "code",
   "execution_count": 52,
   "metadata": {},
   "outputs": [
    {
     "name": "stdout",
     "output_type": "stream",
     "text": [
      "0\n"
     ]
    }
   ],
   "source": [
    "# 判断元音\n",
    "\n",
    "def reason(s):\n",
    "    b = ['a','e','i','o','u']\n",
    "    c = 0\n",
    "    for i in list(s):\n",
    "        if i in b:\n",
    "            # c=c+1 的简约写法\n",
    "            c += 1\n",
    "    return c\n",
    "\n",
    "a = input('plese input a word:')\n",
    "print(reason(a))"
   ]
  },
  {
   "cell_type": "code",
   "execution_count": 53,
   "metadata": {},
   "outputs": [
    {
     "name": "stdout",
     "output_type": "stream",
     "text": [
      "[1, 2, 5, 10]\n"
     ]
    }
   ],
   "source": [
    "# 计算一个正整数的因数\n",
    "\n",
    "def yinshu(number):\n",
    "    b = []\n",
    "    for i in range(1,number+1):\n",
    "        if number % i == 0:\n",
    "            b.append(i)\n",
    "    return b\n",
    "\n",
    "print(yinshu(10))"
   ]
  },
  {
   "cell_type": "code",
   "execution_count": 54,
   "metadata": {},
   "outputs": [
    {
     "name": "stdout",
     "output_type": "stream",
     "text": [
      "20\n",
      "-3\n"
     ]
    }
   ],
   "source": [
    "# 找到最大数 #1\n",
    "\n",
    "def find_max(list1):\n",
    "    \n",
    "    # max = float('-inf') 表示负无穷大\n",
    "    max = float('-inf')\n",
    "    for x in list1:\n",
    "        if x > max:\n",
    "            max = x\n",
    "    return max\n",
    "\n",
    "print(find_max([-20,1,6,7,20,5]))\n",
    "print(find_max([-20,-3,-6,-7,-5]))"
   ]
  },
  {
   "cell_type": "code",
   "execution_count": 55,
   "metadata": {},
   "outputs": [
    {
     "name": "stdout",
     "output_type": "stream",
     "text": [
      "20\n"
     ]
    }
   ],
   "source": [
    "# 找到最大数 #2\n",
    "# 使用递归，递归是编程中非常有效的一种解决问题的方式，将内在逻辑分解为一个固定的逻辑，而调用参数来自于上一次的执行结果\n",
    "# 使用递归要注意初始化和防止递归陷入死循环\n",
    "# 排序、斐波那契数列这些都是递归的经典实现\n",
    "\n",
    "def find_max(list1):\n",
    "    if len(list1) == 1:\n",
    "        return list1[0]\n",
    "    v1 = list1[0]\n",
    "    v2 = find_max(list1[1:])\n",
    "    if v1 > v2:\n",
    "        return v1\n",
    "    else:\n",
    "        return v2\n",
    "\n",
    "print(find_max([1,6,7,20,5]))"
   ]
  },
  {
   "attachments": {},
   "cell_type": "markdown",
   "metadata": {},
   "source": [
    "---\n",
    "\n",
    "## 函数不同参数形式\n",
    "\n",
    "### 位置参数和默认参数\n",
    "\n",
    "位置参数：必须按照顺序准确传递，如果数量和顺序不对，就会可能造成程序错误；调用函数时候，如果写了参数名称，那么位置就不重要了；\n",
    "\n",
    "默认参数：在参数申明的时候跟一个用于默认值的赋值语句，如果调用函数的时候没有给出值，那么这个赋值语句就执行；\n",
    "\n",
    "注意：所有必须的参数要在默认参数之前；\n",
    "\n",
    "默认参数的好处：\n",
    "\n",
    "- 减少程序复杂度\n",
    "- 降低程序错误可能性\n",
    "- 更好的兼容性\n",
    "\n",
    "### 可变长度的参数-元组和字典\n",
    "\n",
    "可变长度的参数，分为不提供关键字和提供关键字两种模式，分别为元组 tuple 和字典 dict；\n",
    "\n",
    "可变长度的参数，如果是提供关键字，就是字典 dict，需要提供 key – value；\n",
    "\n",
    "将字典作为参数传递的时候，可以直接传一个字典变量，也可以在参数列表中写明 key 和 value。\n",
    "\n",
    "函数参数小结\n",
    "\n",
    "- 位置参数\n",
    "- 默认参数\n",
    "- 元组参数，一个星号\n",
    "- 字典参数，两个星号，需要传递 key 和 value\n"
   ]
  },
  {
   "cell_type": "code",
   "execution_count": 56,
   "metadata": {},
   "outputs": [
    {
     "name": "stdout",
     "output_type": "stream",
     "text": [
      "110.0\n",
      "120.0\n",
      "130.0\n"
     ]
    }
   ],
   "source": [
    "# 函数默认参数\n",
    "\n",
    "def cal_0(money, rate=0.1):\n",
    "    return money + money * rate \n",
    "\n",
    "print(cal_0(100))\n",
    "print(cal_0(100,0.2))\n",
    "print(cal_0(rate=0.3,money=100))"
   ]
  },
  {
   "cell_type": "code",
   "execution_count": 58,
   "metadata": {},
   "outputs": [
    {
     "name": "stdout",
     "output_type": "stream",
     "text": [
      "61000\n",
      "62000\n",
      "52000\n"
     ]
    }
   ],
   "source": [
    "# 函数默认参数\n",
    "\n",
    "def cal_1(money, bonus=1000, month=12, a=1, b=2):\n",
    "    i = money * month + bonus\n",
    "    return i\n",
    "\n",
    "\n",
    "print(cal_1(5000))\n",
    "print(cal_1(5000, 2000))\n",
    "print(cal_1(5000, 2000, 10))\n"
   ]
  },
  {
   "cell_type": "code",
   "execution_count": 60,
   "metadata": {},
   "outputs": [
    {
     "name": "stdout",
     "output_type": "stream",
     "text": [
      "\n",
      "       *\n",
      "      ***\n",
      "     *****\n",
      "    *******\n",
      "   *********\n",
      "  ***********\n",
      " *************\n",
      "\n",
      "\n"
     ]
    }
   ],
   "source": [
    "# 画一个三角形 ，n=高度\n",
    "print(\n",
    "'''\n",
    "       *\n",
    "      ***\n",
    "     *****\n",
    "    *******\n",
    "   *********\n",
    "  ***********\n",
    " *************\n",
    "\n",
    "''')"
   ]
  },
  {
   "cell_type": "code",
   "execution_count": 61,
   "metadata": {},
   "outputs": [
    {
     "name": "stdout",
     "output_type": "stream",
     "text": [
      "    \n",
      "   *\n",
      "  ***\n",
      " *****\n"
     ]
    }
   ],
   "source": [
    "# 函数默认参数\n",
    "\n",
    "def draw_triangle(n=5):\n",
    "\n",
    "    for i in range(n+1):\n",
    "        print(' '*(n-i),'*'*(2*i-1))\n",
    "        \n",
    "draw_triangle(3)"
   ]
  },
  {
   "cell_type": "code",
   "execution_count": 62,
   "metadata": {},
   "outputs": [
    {
     "name": "stdout",
     "output_type": "stream",
     "text": [
      "        \n",
      "       *\n",
      "      ***\n",
      "     *****\n",
      "    *******\n",
      "   *********\n",
      "  ***********\n",
      " *************\n"
     ]
    }
   ],
   "source": [
    "draw_triangle(7)"
   ]
  },
  {
   "cell_type": "code",
   "execution_count": 40,
   "metadata": {},
   "outputs": [
    {
     "name": "stdout",
     "output_type": "stream",
     "text": [
      "2.5\n"
     ]
    }
   ],
   "source": [
    "# 函数可变长度的参数 元组\n",
    "\n",
    "# 计算平均数\n",
    "def cal_2(kind, *numbers):\n",
    "    if kind == 'avg':\n",
    "        n = 0\n",
    "        for i in numbers:\n",
    "            n = n + i\n",
    "        return n / len(numbers)\n",
    "\n",
    "t = cal_2('avg', 1,2,3,4)\n",
    "print(t)"
   ]
  },
  {
   "cell_type": "code",
   "execution_count": 41,
   "metadata": {},
   "outputs": [
    {
     "name": "stdout",
     "output_type": "stream",
     "text": [
      "2.5\n",
      "10\n",
      "10\n"
     ]
    }
   ],
   "source": [
    "# 函数可变长度的参数 元组\n",
    "# 输入计算的类别，输入要计算的数字\n",
    "\n",
    "def cal_3(kind, *numbers):\n",
    "    \n",
    "    if kind == 'avg':\n",
    "        n = 0\n",
    "        for i in numbers:\n",
    "            n = n + i\n",
    "        return n / len(numbers)\n",
    "    if kind == 'sum':\n",
    "        n = 0\n",
    "        for i in numbers:\n",
    "            n = n + i\n",
    "        return n\n",
    "    \n",
    "print(cal_3('avg', 1,2,3,4))\n",
    "print(cal_3('sum', 1,2,3,4))\n",
    "\n",
    "# 如果已经有一个list或者tuple，要要作为可变参数传给函数怎么办?\n",
    "# 在list或tuple前面加一个*号，把list或tuple的元素变成可变参数传进去：\n",
    "print(cal_3('sum',*[1,2,3,4]))"
   ]
  },
  {
   "cell_type": "code",
   "execution_count": 42,
   "metadata": {},
   "outputs": [
    {
     "name": "stdout",
     "output_type": "stream",
     "text": [
      "10\n"
     ]
    }
   ],
   "source": [
    "# 函数可变长度的参数 元组\n",
    "# 简化程序逻辑\n",
    "\n",
    "def cal_4(kind, *numbers):\n",
    "    \n",
    "    n = 0\n",
    "    for i in numbers:\n",
    "        n = n + i\n",
    "    \n",
    "    if kind == 'avg':\n",
    "        return n / len(numbers)\n",
    "    if kind == 'sum':\n",
    "        return n\n",
    "    \n",
    "\n",
    "print(cal_4('sum', 1,2,3,4))"
   ]
  },
  {
   "cell_type": "code",
   "execution_count": 43,
   "metadata": {},
   "outputs": [
    {
     "ename": "SyntaxError",
     "evalue": "positional argument follows keyword argument (3950241091.py, line 2)",
     "output_type": "error",
     "traceback": [
      "\u001b[1;36m  Input \u001b[1;32mIn [43]\u001b[1;36m\u001b[0m\n\u001b[1;33m    print(cal_4(kind='avg', 1,2,3,4))\u001b[0m\n\u001b[1;37m                                   ^\u001b[0m\n\u001b[1;31mSyntaxError\u001b[0m\u001b[1;31m:\u001b[0m positional argument follows keyword argument\n"
     ]
    }
   ],
   "source": [
    "# 注意不能这样写\n",
    "print(cal_4(kind='avg', 1,2,3,4))"
   ]
  },
  {
   "cell_type": "code",
   "execution_count": 68,
   "metadata": {},
   "outputs": [
    {
     "name": "stdout",
     "output_type": "stream",
     "text": [
      "2.5\n",
      "10\n"
     ]
    }
   ],
   "source": [
    "# 传递元组和字典参数优雅的写法\n",
    "\n",
    "def cal_5(*numbers, **kw):\n",
    "    \n",
    "    # 判断是否有 kind 这个 key\n",
    "    if 'kind' in kw:\n",
    "        kind_value = kw.get('kind')\n",
    "    \n",
    "    n = 0\n",
    "    for i in numbers:\n",
    "        n = n + i\n",
    "        \n",
    "    if kind_value == 'avg':\n",
    "        return n / len(numbers)\n",
    "    if kind_value == 'sum':\n",
    "        return n\n",
    "    \n",
    "print(cal_5(1,2,3,4,kind='avg',max='ignore'))\n",
    "print(cal_5(1,2,3,4,kind='sum'))"
   ]
  },
  {
   "attachments": {},
   "cell_type": "markdown",
   "metadata": {},
   "source": [
    "---\n",
    "\n",
    "## 匿名函数\n",
    "\n",
    "Python 允许用 lambda 关键字创造匿名函数。\n",
    "lambda 匿名函数不需要常规函数的 def 和 return 关键字，因为匿名函数代码较短，因此适用于一些简单处理运算的场景。\n",
    "\n",
    "- 匿名函数的用法特点\n",
    "  - 只用一次的场景，不用取名称，因为给函数取名是比较麻烦的一件事；\n",
    "  - 函数逻辑简单，使用匿名函数前确认 Python 没有自带类似功能的函数，实际开发中，不要去重复发明轮子；\n"
   ]
  },
  {
   "cell_type": "code",
   "execution_count": 80,
   "metadata": {},
   "outputs": [
    {
     "data": {
      "text/plain": [
       "3"
      ]
     },
     "execution_count": 80,
     "metadata": {},
     "output_type": "execute_result"
    }
   ],
   "source": [
    "# 等价的函数一般写法和匿名函数写法\n",
    "\n",
    "def add(x, y):\n",
    "    return x + y\n",
    "\n",
    "a = lambda x, y: x + y\n",
    "a(1,2)"
   ]
  },
  {
   "cell_type": "code",
   "execution_count": 81,
   "metadata": {},
   "outputs": [
    {
     "data": {
      "text/plain": [
       "5"
      ]
     },
     "execution_count": 81,
     "metadata": {},
     "output_type": "execute_result"
    }
   ],
   "source": [
    "# lambda 同样可以有默认参数\n",
    "\n",
    "a =  lambda x, y=2 : x + y \n",
    "a(3)"
   ]
  },
  {
   "cell_type": "code",
   "execution_count": 82,
   "metadata": {},
   "outputs": [
    {
     "data": {
      "text/plain": [
       "8"
      ]
     },
     "execution_count": 82,
     "metadata": {},
     "output_type": "execute_result"
    }
   ],
   "source": [
    "a(3, 5)"
   ]
  },
  {
   "cell_type": "code",
   "execution_count": 83,
   "metadata": {},
   "outputs": [
    {
     "name": "stdout",
     "output_type": "stream",
     "text": [
      "44\n"
     ]
    }
   ],
   "source": [
    "a = lambda x : x * x +40\n",
    "\n",
    "print(a(2))"
   ]
  },
  {
   "cell_type": "markdown",
   "metadata": {},
   "source": [
    "---\n",
    "\n",
    "## 文件和目录操作之一\n",
    "\n",
    "Python 的 os 库有很多和文件、路径和执行系统命令相关的函数。\n",
    "\n",
    "### os 库常用函数\n",
    "\n",
    "* os.sep 可以取代操作系统特定的路径分割符\n",
    "* os.name 字符串指示你正在使用的平台。比如对于Windows，它是'nt'，而对于Linux/Unix用户，它是'posix' \n",
    "* os.getcwd() 函数得到当前工作目录，即当前Python脚本工作的目录路径\n",
    "* os.chdir(dirname)  改变工作目录到dirname\n",
    "* os.getenv() 用来读取环境变量\n",
    "* os.putenv() 用来设置环境变量 \n",
    "* os.listdir() 返回指定目录下的所有文件名和目录名 \n",
    "* os.remove() 删除一个文件\n",
    "* os.system() 运行shell命令\n",
    "* os.linesep 字符串给出当前平台使用的行终止符。例如，Windows使用'/r/n'，Mac使用'\\n'。\n",
    "* os.mkdir() 建立路径\n",
    "* os.rmdir() 删除路径\n",
    "\n",
    ">不同操作系统在路径和文件处理上有一定差异，这里的举例在 Windows 和 macOS 下都测试过\n",
    "\n",
    "### 关于文件系统的延展阅读\n",
    "* 文件系统介绍 https://zh.wikipedia.org/wiki/%E6%96%87%E4%BB%B6%E7%B3%BB%E7%BB%9F\n",
    "* windows 文件系统 FAT、FAT32、NTFS 介绍 https://support.microsoft.com/zh-cn/kb/100108\n",
    "* linux 文件系统介绍 http://cn.linux.vbird.org/linux_basic/0230filesystem.php\n",
    "\n",
    "目前 python 社区逐渐推荐使用pathlib 函数包来进行文件目录相关的访问。和 python 其他一些函数包一样，文件目录操作由于其基本性和发展，造成库比较多，功能有重叠，对于理解python 如何处理文件目录，我们还是沿用了原来的函数包，而 pathlib 是从 python 3.4 版本开始引入并且不断得到完善。之后会有专题来介绍 pathlib。"
   ]
  },
  {
   "cell_type": "code",
   "execution_count": 54,
   "metadata": {},
   "outputs": [
    {
     "name": "stdout",
     "output_type": "stream",
     "text": [
      "\\\n",
      "nt\n"
     ]
    }
   ],
   "source": [
    "import os\n",
    "\n",
    "# 操作系统路径分隔符\n",
    "print(os.sep)\n",
    "\n",
    "# 操作系统平台名称\n",
    "print(os.name)"
   ]
  },
  {
   "cell_type": "code",
   "execution_count": 79,
   "metadata": {},
   "outputs": [
    {
     "data": {
      "text/plain": [
       "'c:\\\\Users\\\\dikli\\\\OneDrive\\\\学习\\\\Coding\\\\Python\\\\Learn\\\\BigDataLesson'"
      ]
     },
     "execution_count": 79,
     "metadata": {},
     "output_type": "execute_result"
    }
   ],
   "source": [
    "# 获取当前路径\n",
    "os.getcwd()"
   ]
  },
  {
   "cell_type": "code",
   "execution_count": 85,
   "metadata": {},
   "outputs": [
    {
     "data": {
      "text/plain": [
       "'C:\\\\'"
      ]
     },
     "execution_count": 85,
     "metadata": {},
     "output_type": "execute_result"
    }
   ],
   "source": [
    "# 切换路径\n",
    "\n",
    "os.chdir('C:/')\n",
    "os.getcwd()"
   ]
  },
  {
   "cell_type": "code",
   "execution_count": 55,
   "metadata": {},
   "outputs": [
    {
     "data": {
      "text/plain": [
       "['.git',\n",
       " '0-环境安装.ipynb',\n",
       " '1-Python基础语法.ipynb',\n",
       " '2-机器学习入门',\n",
       " '3-OpenCV与图像处理.ipynb',\n",
       " '4-深度学习入门.ipynb',\n",
       " '5-分类实战',\n",
       " '6-分割实战',\n",
       " 'LICENSE',\n",
       " 'poetry.lock',\n",
       " 'pyproject.toml',\n",
       " 'README.md']"
      ]
     },
     "execution_count": 55,
     "metadata": {},
     "output_type": "execute_result"
    }
   ],
   "source": [
    "# 返回指定的文件夹包含的文件或文件夹的名字的列表。这个列表以字母顺序。 \n",
    "# 不包括 '.' 和'..' 即使它在文件夹中。\n",
    "\n",
    "import os\n",
    "\n",
    "os.listdir()"
   ]
  },
  {
   "cell_type": "code",
   "execution_count": 87,
   "metadata": {},
   "outputs": [
    {
     "name": "stdout",
     "output_type": "stream",
     "text": [
      "<class 'list'>\n"
     ]
    }
   ],
   "source": [
    "# 注意返回的数据类型是什么，是一个列表\n",
    "\n",
    "print(type(os.listdir()))"
   ]
  },
  {
   "cell_type": "code",
   "execution_count": 88,
   "metadata": {},
   "outputs": [
    {
     "name": "stdout",
     "output_type": "stream",
     "text": [
      "21\n"
     ]
    }
   ],
   "source": [
    "# 计算目录下有多少文件，因为返回结果是 list，因此各类计算都比较方便\n",
    "\n",
    "a = os.listdir()\n",
    "print(len(a))"
   ]
  },
  {
   "cell_type": "code",
   "execution_count": 90,
   "metadata": {},
   "outputs": [
    {
     "name": "stdout",
     "output_type": "stream",
     "text": [
      "PerfLogs\n",
      "Program Files\n",
      "Program Files (x86)\n",
      "ProgramData\n"
     ]
    }
   ],
   "source": [
    "# 可以指定路径参数，来列出该目录下所有文件\n",
    "\n",
    "list_a = os.listdir('C:/')\n",
    "\n",
    "# 可以判断各类情况，比如第一个是 P 字母\n",
    "for i in list_a:\n",
    "    if i[0] == 'P':\n",
    "        print(i)"
   ]
  },
  {
   "cell_type": "code",
   "execution_count": 91,
   "metadata": {},
   "outputs": [
    {
     "data": {
      "text/plain": [
       "'\\r\\n'"
      ]
     },
     "execution_count": 91,
     "metadata": {},
     "output_type": "execute_result"
    }
   ],
   "source": [
    "# 操作系统换行符\n",
    "# 在一些文本文件处理中有用\n",
    "\n",
    "os.linesep"
   ]
  },
  {
   "cell_type": "markdown",
   "metadata": {},
   "source": [
    "---\n",
    "\n",
    "### os.path 常用函数\n",
    "\n",
    "* os.path.isdir() 检查给出的路径是否是一个目录\n",
    "* os.path.isfile() 检查给出的路径是否一个文件\n",
    "* os.path.exists() 检查给出的路径或者文件是否存在\n",
    "* os.path.getsize() 获得路径或者文件的大小\n",
    "* os.path.getatime() 返回所指向的文件或者目录的最后存取时间\n",
    "* os.path.getmtime() 返回所指向的文件或者目录的最后修改时间 \n",
    "* os.path.split() 返回一个路径的目录名和文件名\n",
    "* os.path.abspath() 返回规范化的绝对路径\n",
    "* os.path.isabs() 如果输入是绝对路径，返回True\n",
    "* os.path.split() 将路径分割成目录和文件名的二元素元组\n",
    "* os.path.splitdrive() 返回（drivername，fpath）元组 \n",
    "* os.path.dirname() 返回路径的目录，其实就是 os.path.split(path)的第一个元素\n",
    "* os.path.basename() 返回路径最后的文件名，其实就是 os.path.split(path)的第二个元素\n",
    "* os.path.splitext() 分离文件名与扩展名，返回(fname,fextension)元组 \n",
    "* os.path.join() 将多个路径组合后返回，第一个绝对路径之前的参数将被忽略\n",
    "* os.path.commonprefix(list) 返回list中，所有路径共有的最长的路径"
   ]
  },
  {
   "cell_type": "code",
   "execution_count": 99,
   "metadata": {},
   "outputs": [
    {
     "name": "stdout",
     "output_type": "stream",
     "text": [
      "C:\\Users\\dikli\n",
      "True\n",
      "True\n",
      "False\n"
     ]
    }
   ],
   "source": [
    "# 检查给出的路径是否是一个存在的目录，存在\n",
    "\n",
    "# 确保执行这些测试代码的时候先设定路径到当前 notebook 的路径，或者设定的某个路径\n",
    "# 进行路径、文件操作时候，还是要谨慎小心一些\n",
    "\n",
    "os.chdir('C:\\\\Users\\\\dikli')\n",
    "s_dir = os.getcwd()\n",
    "print(s_dir)\n",
    "print(os.path.isdir(s_dir))\n",
    "print(os.path.isdir('C:\\\\Users'))\n",
    "print(os.path.isdir('C:\\\\Users222'))"
   ]
  },
  {
   "cell_type": "code",
   "execution_count": 100,
   "metadata": {},
   "outputs": [
    {
     "data": {
      "text/plain": [
       "False"
      ]
     },
     "execution_count": 100,
     "metadata": {},
     "output_type": "execute_result"
    }
   ],
   "source": [
    "# 检查给出的路径是否是一个存在的目录\n",
    "# 下面再当前路径下加了个字母，当然是不存在的\n",
    "\n",
    "os.path.isdir(s_dir + 's')"
   ]
  },
  {
   "cell_type": "code",
   "execution_count": 101,
   "metadata": {},
   "outputs": [
    {
     "data": {
      "text/plain": [
       "False"
      ]
     },
     "execution_count": 101,
     "metadata": {},
     "output_type": "execute_result"
    }
   ],
   "source": [
    "# 文件不是路径，即便文件存在，也返回 False\n",
    "\n",
    "os.path.isdir(s_dir + 'test.txt')"
   ]
  },
  {
   "cell_type": "code",
   "execution_count": 102,
   "metadata": {},
   "outputs": [
    {
     "name": "stdout",
     "output_type": "stream",
     "text": [
      "C:\\Users\\dikli\\files/test.txt\n"
     ]
    },
    {
     "data": {
      "text/plain": [
       "False"
      ]
     },
     "execution_count": 102,
     "metadata": {},
     "output_type": "execute_result"
    }
   ],
   "source": [
    "# 检查给出的路径是否一个文件，存在\n",
    "import os\n",
    "s_dir = os.getcwd()\n",
    "s_file = os.path.join(s_dir, 'files/test.txt')\n",
    "print(s_file)\n",
    "os.path.isfile(s_file)"
   ]
  },
  {
   "cell_type": "code",
   "execution_count": 103,
   "metadata": {},
   "outputs": [
    {
     "data": {
      "text/plain": [
       "False"
      ]
     },
     "execution_count": 103,
     "metadata": {},
     "output_type": "execute_result"
    }
   ],
   "source": [
    "# 检查给出的路径是否一个文件，不存在\n",
    "\n",
    "s_dir = os.getcwd()\n",
    "s_file = os.path.join(s_dir, 'test222.txt')\n",
    "os.path.isfile(s_file)"
   ]
  },
  {
   "cell_type": "code",
   "execution_count": 61,
   "metadata": {},
   "outputs": [
    {
     "data": {
      "text/plain": [
       "True"
      ]
     },
     "execution_count": 61,
     "metadata": {},
     "output_type": "execute_result"
    }
   ],
   "source": [
    "os.path.isfile('0-环境安装.ipynb')"
   ]
  },
  {
   "cell_type": "code",
   "execution_count": 104,
   "metadata": {},
   "outputs": [
    {
     "data": {
      "text/plain": [
       "False"
      ]
     },
     "execution_count": 104,
     "metadata": {},
     "output_type": "execute_result"
    }
   ],
   "source": [
    "# 路径不是文件，所以返回 False\n",
    "\n",
    "s_dir = os.getcwd()\n",
    "os.path.isfile(s_dir)"
   ]
  },
  {
   "cell_type": "code",
   "execution_count": 105,
   "metadata": {},
   "outputs": [
    {
     "name": "stdout",
     "output_type": "stream",
     "text": [
      "True\n",
      "False\n"
     ]
    }
   ],
   "source": [
    "# 对路径和文件都通用的检查方式\n",
    "\n",
    "s_dir = os.getcwd()\n",
    "s_file = os.path.join(s_dir, 'test.txt')\n",
    "\n",
    "print(os.path.exists(s_dir))\n",
    "print(os.path.exists(s_file))"
   ]
  },
  {
   "cell_type": "code",
   "execution_count": 71,
   "metadata": {},
   "outputs": [
    {
     "data": {
      "text/plain": [
       "9"
      ]
     },
     "execution_count": 71,
     "metadata": {},
     "output_type": "execute_result"
    }
   ],
   "source": [
    "# 获得路径或者文件的大小\n",
    "\n",
    "s_dir = os.getcwd()\n",
    "s_file = os.path.join(s_dir, 'test.txt')\n",
    "\n",
    "\n",
    "os.path.getsize(s_file)"
   ]
  },
  {
   "cell_type": "code",
   "execution_count": 73,
   "metadata": {},
   "outputs": [
    {
     "data": {
      "text/plain": [
       "1678158351.422753"
      ]
     },
     "execution_count": 73,
     "metadata": {},
     "output_type": "execute_result"
    }
   ],
   "source": [
    "# 返回所指向的文件或者目录的最后存取时间\n",
    "# 返回的时间格式可能和大家想象的不太一样\n",
    "\n",
    "s_dir = os.getcwd()\n",
    "s_file = os.path.join(s_dir, 'test.txt')\n",
    "\n",
    "os.path.getatime(s_file)"
   ]
  },
  {
   "cell_type": "code",
   "execution_count": 74,
   "metadata": {},
   "outputs": [
    {
     "name": "stdout",
     "output_type": "stream",
     "text": [
      "2023-03-07-11:02:49\n"
     ]
    }
   ],
   "source": [
    "# 返回所指向的文件或者目录的最后存取时间\n",
    "import os\n",
    "import time\n",
    "\n",
    "# 将日期格式化\n",
    "dt = time.localtime(os.path.getatime(s_dir))\n",
    "# print(dt)\n",
    "print(time.strftime('%Y-%m-%d %H:%M:%S', dt))"
   ]
  },
  {
   "cell_type": "code",
   "execution_count": null,
   "metadata": {},
   "outputs": [
    {
     "data": {
      "text/plain": [
       "1586952838.4941905"
      ]
     },
     "metadata": {},
     "output_type": "display_data"
    }
   ],
   "source": [
    "# 返回所指向的文件或者目录的最后修改时间\n",
    "\n",
    "s_file = os.path.join(s_dir, 'files/test.txt')\n",
    "\n",
    "os.path.getmtime(s_file)"
   ]
  },
  {
   "cell_type": "code",
   "execution_count": null,
   "metadata": {},
   "outputs": [
    {
     "data": {
      "text/plain": [
       "'Wed Apr 15 20:13:58 2020'"
      ]
     },
     "metadata": {},
     "output_type": "display_data"
    }
   ],
   "source": [
    "# 返回所指向的文件或者目录的最后修改时间\n",
    "# 使用 time.ctime() 方法来格式化日期\n",
    "\n",
    "import time, os\n",
    "\n",
    "s_file = os.path.join(s_dir, 'files/test.txt')\n",
    "\n",
    "time.ctime(os.path.getmtime(s_file))"
   ]
  },
  {
   "cell_type": "code",
   "execution_count": 75,
   "metadata": {},
   "outputs": [
    {
     "data": {
      "text/plain": [
       "'c:\\\\Users\\\\dikli\\\\OneDrive\\\\学习\\\\Coding\\\\Python\\\\Learn\\\\BigDataLesson\\\\test.txt'"
      ]
     },
     "execution_count": 75,
     "metadata": {},
     "output_type": "execute_result"
    }
   ],
   "source": [
    "# 返回规范化的绝对路径\n",
    "# 会自动补齐完整路径,不管文件是否存在\n",
    "\n",
    "os.path.abspath('test.txt')"
   ]
  },
  {
   "cell_type": "code",
   "execution_count": 76,
   "metadata": {},
   "outputs": [
    {
     "name": "stdout",
     "output_type": "stream",
     "text": [
      "False\n",
      "True\n"
     ]
    }
   ],
   "source": [
    "# 如果输入是绝对路径，返回True\n",
    "\n",
    "print(os.path.isabs('test.txt'))\n",
    "print(os.path.isabs(r'c:\\\\Users\\\\dikli\\\\OneDrive\\\\学习\\\\Coding\\\\Python\\\\Learn\\\\BigDataLesson\\\\test.txt'))"
   ]
  },
  {
   "cell_type": "code",
   "execution_count": 77,
   "metadata": {},
   "outputs": [
    {
     "name": "stdout",
     "output_type": "stream",
     "text": [
      "c:\\Users\\dikli\\OneDrive\\学习\\Coding\\Python\\Learn\\BigDataLesson\\test.txt\n"
     ]
    },
    {
     "data": {
      "text/plain": [
       "('c:\\\\Users\\\\dikli\\\\OneDrive\\\\学习\\\\Coding\\\\Python\\\\Learn\\\\BigDataLesson',\n",
       " 'test.txt')"
      ]
     },
     "execution_count": 77,
     "metadata": {},
     "output_type": "execute_result"
    }
   ],
   "source": [
    "# 返回一个路径的目录名和文件名\n",
    "\n",
    "# os.chdir('/Users/david.yi/Documents/dev/python_study/python_basic')\n",
    "# os.chdir('C:\\\\Users\\\\yimeng.zhang\\\\Desktop\\\\Class\\\\python基础\\\\python_basic')\n",
    "s_dir = os.getcwd()\n",
    "s_file = os.path.join(s_dir, 'test.txt')\n",
    "print(s_file)\n",
    "\n",
    "# 分拆路径和文件名\n",
    "os.path.split(s_file)"
   ]
  },
  {
   "cell_type": "code",
   "execution_count": 78,
   "metadata": {},
   "outputs": [
    {
     "data": {
      "text/plain": [
       "'c:\\\\Users\\\\dikli\\\\OneDrive\\\\学习\\\\Coding\\\\Python\\\\Learn'"
      ]
     },
     "execution_count": 78,
     "metadata": {},
     "output_type": "execute_result"
    }
   ],
   "source": [
    "# 返回路径的目录，其实就是 os.path.split(path)的第一个元素\n",
    "\n",
    "os.path.dirname(s_dir)"
   ]
  },
  {
   "cell_type": "code",
   "execution_count": 79,
   "metadata": {},
   "outputs": [
    {
     "data": {
      "text/plain": [
       "'test.txt'"
      ]
     },
     "execution_count": 79,
     "metadata": {},
     "output_type": "execute_result"
    }
   ],
   "source": [
    "# 返回路径最后的文件名，其实就是 os.path.split(path)的第二个元素\n",
    "\n",
    "os.path.basename(s_file)"
   ]
  },
  {
   "cell_type": "code",
   "execution_count": 81,
   "metadata": {},
   "outputs": [
    {
     "data": {
      "text/plain": [
       "'test'"
      ]
     },
     "execution_count": 81,
     "metadata": {},
     "output_type": "execute_result"
    }
   ],
   "source": [
    "# 分离文件名与扩展名，返回(fname,fextension)元组 \n",
    "\n",
    "os.path.splitext(s_file)"
   ]
  },
  {
   "cell_type": "code",
   "execution_count": null,
   "metadata": {},
   "outputs": [
    {
     "data": {
      "text/plain": [
       "'C:\\\\dev_python\\\\python_study\\\\python_study_basic_notebook\\\\files\\\\test.txt'"
      ]
     },
     "metadata": {},
     "output_type": "display_data"
    }
   ],
   "source": [
    "# 将多个路径组合后返回，第一个绝对路径之前的参数将被忽略\n",
    "\n",
    "os.path.join('C:\\\\dev_python\\\\python_study\\\\python_study_basic_notebook\\\\files', 'test.txt')"
   ]
  },
  {
   "cell_type": "code",
   "execution_count": null,
   "metadata": {},
   "outputs": [
    {
     "data": {
      "text/plain": [
       "'/Users/yijun/'"
      ]
     },
     "metadata": {},
     "output_type": "display_data"
    }
   ],
   "source": [
    "# 返回list中，所有路径共有的最长的路径\n",
    "\n",
    "l = ['/Users/yijun/test.txt', '/Users/yijun/test/aaa.txt', '/Users/yijun/bbb.txt']\n",
    "os.path.commonprefix(l)"
   ]
  },
  {
   "cell_type": "code",
   "execution_count": null,
   "metadata": {},
   "outputs": [
    {
     "name": "stdout",
     "output_type": "stream",
     "text": [
      "/Users/yijun/Documents/dev_python/python_study/python_study_basic_notebook/Python Basic Lesson 15 - 图片处理 Pillow.ipynb\n",
      "/Users/yijun/Documents/dev_python/python_study/python_study_basic_notebook/Python Basic Lesson 03 - 循环 for, 字符串.ipynb\n",
      "/Users/yijun/Documents/dev_python/python_study/python_study_basic_notebook/draft\n",
      "/Users/yijun/Documents/dev_python/python_study/python_study_basic_notebook/draft/.DS_Store\n",
      "/Users/yijun/Documents/dev_python/python_study/python_study_basic_notebook/draft/.ipynb_checkpoints\n",
      "/Users/yijun/Documents/dev_python/python_study/python_study_basic_notebook/draft/.ipynb_checkpoints/单元测试 unittest-checkpoint.ipynb\n",
      "/Users/yijun/Documents/dev_python/python_study/python_study_basic_notebook/draft/.ipynb_checkpoints/Python Basic Lesson 09 - 日期函数-checkpoint.ipynb\n",
      "/Users/yijun/Documents/dev_python/python_study/python_study_basic_notebook/draft/.ipynb_checkpoints/Python Basic Lesson 06  - 随机数-checkpoint.ipynb\n",
      "/Users/yijun/Documents/dev_python/python_study/python_study_basic_notebook/draft/.ipynb_checkpoints/Python Basic Lesson 07 - 文件目录操作-checkpoint.ipynb\n",
      "/Users/yijun/Documents/dev_python/python_study/python_study_basic_notebook/draft/.ipynb_checkpoints/Python Basic Lesson 11 - 集合库 collections-checkpoint.ipynb\n",
      "/Users/yijun/Documents/dev_python/python_study/python_study_basic_notebook/draft/.ipynb_checkpoints/日期处理-checkpoint.ipynb\n",
      "/Users/yijun/Documents/dev_python/python_study/python_study_basic_notebook/draft/.ipynb_checkpoints/Python Basic Lesson 10 - 函数参数和匿名函数-checkpoint.ipynb\n",
      "/Users/yijun/Documents/dev_python/python_study/python_study_basic_notebook/draft/.ipynb_checkpoints/匿名函数-checkpoint.ipynb\n",
      "/Users/yijun/Documents/dev_python/python_study/python_study_basic_notebook/draft/.ipynb_checkpoints/列表切片-checkpoint.ipynb\n",
      "/Users/yijun/Documents/dev_python/python_study/python_study_basic_notebook/draft/.ipynb_checkpoints/Python Basic Lesson 08 - 函数-checkpoint.ipynb\n",
      "/Users/yijun/Documents/dev_python/python_study/python_study_basic_notebook/draft/.ipynb_checkpoints/函数的不同参数-checkpoint.ipynb\n",
      "/Users/yijun/Documents/dev_python/python_study/python_study_basic_notebook/draft/列表切片.ipynb\n",
      "/Users/yijun/Documents/dev_python/python_study/python_study_basic_notebook/draft/python_basic_2\n",
      "/Users/yijun/Documents/dev_python/python_study/python_study_basic_notebook/draft/python_basic_2/面向对象的编程之三.ipynb\n",
      "/Users/yijun/Documents/dev_python/python_study/python_study_basic_notebook/draft/python_basic_2/.DS_Store\n",
      "/Users/yijun/Documents/dev_python/python_study/python_study_basic_notebook/draft/python_basic_2/面向对象的编程之二.ipynb\n",
      "/Users/yijun/Documents/dev_python/python_study/python_study_basic_notebook/draft/python_basic_2/imgs\n",
      "/Users/yijun/Documents/dev_python/python_study/python_study_basic_notebook/draft/python_basic_2/imgs/logo.gif\n",
      "/Users/yijun/Documents/dev_python/python_study/python_study_basic_notebook/draft/python_basic_2/imgs/map.png\n",
      "/Users/yijun/Documents/dev_python/python_study/python_study_basic_notebook/draft/python_basic_2/imgs/test_thumbnail.jpg\n",
      "/Users/yijun/Documents/dev_python/python_study/python_study_basic_notebook/draft/python_basic_2/imgs/test_rotate.jpg\n",
      "/Users/yijun/Documents/dev_python/python_study/python_study_basic_notebook/draft/python_basic_2/imgs/test.jpg\n",
      "/Users/yijun/Documents/dev_python/python_study/python_study_basic_notebook/draft/python_basic_2/imgs/logo3.jpg\n",
      "/Users/yijun/Documents/dev_python/python_study/python_study_basic_notebook/draft/python_basic_2/imgs/logo2.jpg\n",
      "/Users/yijun/Documents/dev_python/python_study/python_study_basic_notebook/draft/python_basic_2/imgs/test_enhance.jpg\n",
      "/Users/yijun/Documents/dev_python/python_study/python_study_basic_notebook/draft/python_basic_2/imgs/test_edge.jpg\n",
      "/Users/yijun/Documents/dev_python/python_study/python_study_basic_notebook/draft/python_basic_2/imgs/test_crop.jpg\n",
      "/Users/yijun/Documents/dev_python/python_study/python_study_basic_notebook/draft/python_basic_2/imgs/test_blur.jpg\n",
      "/Users/yijun/Documents/dev_python/python_study/python_study_basic_notebook/draft/python_basic_2/imgs/test_draw.jpg\n",
      "/Users/yijun/Documents/dev_python/python_study/python_study_basic_notebook/draft/python_basic_2/面向对象的编程.ipynb\n",
      "/Users/yijun/Documents/dev_python/python_study/python_study_basic_notebook/draft/python_basic_2/lesson 03\n",
      "/Users/yijun/Documents/dev_python/python_study/python_study_basic_notebook/draft/python_basic_2/lesson 03/.ipynb_checkpoints\n",
      "/Users/yijun/Documents/dev_python/python_study/python_study_basic_notebook/draft/python_basic_2/lesson 03/.ipynb_checkpoints/窗口界面编程 tk-checkpoint.ipynb\n",
      "/Users/yijun/Documents/dev_python/python_study/python_study_basic_notebook/draft/python_basic_2/lesson 03/python_senior_slides_python_senior_L3_v1.pptx\n",
      "/Users/yijun/Documents/dev_python/python_study/python_study_basic_notebook/draft/python_basic_2/python_basic_L2_lesson14.ipynb\n",
      "/Users/yijun/Documents/dev_python/python_study/python_study_basic_notebook/draft/python_basic_2/python_basic_L2_outline_v1.docx\n",
      "/Users/yijun/Documents/dev_python/python_study/python_study_basic_notebook/draft/python_basic_2/lesson 02\n",
      "/Users/yijun/Documents/dev_python/python_study/python_study_basic_notebook/draft/python_basic_2/lesson 02/.ipynb_checkpoints\n",
      "/Users/yijun/Documents/dev_python/python_study/python_study_basic_notebook/draft/python_basic_2/面向对象的编程之四.ipynb\n",
      "/Users/yijun/Documents/dev_python/python_study/python_study_basic_notebook/draft/python_basic_2/python_basic_L2_lesson07.ipynb\n",
      "/Users/yijun/Documents/dev_python/python_study/python_study_basic_notebook/draft/python_basic_2/files\n",
      "/Users/yijun/Documents/dev_python/python_study/python_study_basic_notebook/draft/python_basic_2/files/test.txt\n",
      "/Users/yijun/Documents/dev_python/python_study/python_study_basic_notebook/draft/python_basic_2/.ipynb_checkpoints\n",
      "/Users/yijun/Documents/dev_python/python_study/python_study_basic_notebook/draft/python_basic_2/.ipynb_checkpoints/python_basic_L2_lesson07-checkpoint.ipynb\n",
      "/Users/yijun/Documents/dev_python/python_study/python_study_basic_notebook/draft/python_basic_2/.ipynb_checkpoints/python_basic_L2_lesson13-checkpoint.ipynb\n",
      "/Users/yijun/Documents/dev_python/python_study/python_study_basic_notebook/draft/python_basic_2/.ipynb_checkpoints/面向对象的编程之四-checkpoint.ipynb\n",
      "/Users/yijun/Documents/dev_python/python_study/python_study_basic_notebook/draft/python_basic_2/.ipynb_checkpoints/python_basic_L2_lesson08-checkpoint.ipynb\n",
      "/Users/yijun/Documents/dev_python/python_study/python_study_basic_notebook/draft/python_basic_2/.ipynb_checkpoints/面向对象的编程之三-checkpoint.ipynb\n",
      "/Users/yijun/Documents/dev_python/python_study/python_study_basic_notebook/draft/python_basic_2/.ipynb_checkpoints/python_basic_L2_lesson06-checkpoint.ipynb\n",
      "/Users/yijun/Documents/dev_python/python_study/python_study_basic_notebook/draft/python_basic_2/.ipynb_checkpoints/python_basic_L2_lesson12-checkpoint.ipynb\n",
      "/Users/yijun/Documents/dev_python/python_study/python_study_basic_notebook/draft/python_basic_2/.ipynb_checkpoints/python_basic_L2_lesson09-checkpoint.ipynb\n",
      "/Users/yijun/Documents/dev_python/python_study/python_study_basic_notebook/draft/python_basic_2/.ipynb_checkpoints/面向对象的编程之二-checkpoint.ipynb\n",
      "/Users/yijun/Documents/dev_python/python_study/python_study_basic_notebook/draft/python_basic_2/.ipynb_checkpoints/Python Basic Lesson 15 - 图片处理 Pillow-checkpoint.ipynb\n",
      "/Users/yijun/Documents/dev_python/python_study/python_study_basic_notebook/draft/python_basic_2/.ipynb_checkpoints/python_basic_L2_lesson11-checkpoint.ipynb\n",
      "/Users/yijun/Documents/dev_python/python_study/python_study_basic_notebook/draft/python_basic_2/.ipynb_checkpoints/python_basic_L2_lesson05-checkpoint.ipynb\n",
      "/Users/yijun/Documents/dev_python/python_study/python_study_basic_notebook/draft/python_basic_2/.ipynb_checkpoints/面向对象的编程-checkpoint.ipynb\n",
      "/Users/yijun/Documents/dev_python/python_study/python_study_basic_notebook/draft/python_basic_2/.ipynb_checkpoints/python_basic_L2_lesson10-checkpoint.ipynb\n",
      "/Users/yijun/Documents/dev_python/python_study/python_study_basic_notebook/draft/python_basic_2/.ipynb_checkpoints/Python Basic Lesson 12 - 列表生成式-checkpoint.ipynb\n",
      "/Users/yijun/Documents/dev_python/python_study/python_study_basic_notebook/draft/python_basic_2/.ipynb_checkpoints/python_basic_L2_lesson04-checkpoint.ipynb\n",
      "/Users/yijun/Documents/dev_python/python_study/python_study_basic_notebook/draft/python_basic_2/.ipynb_checkpoints/Python Basic Lesson 13 - 完整的 for 语句结构和 pprint-checkpoint.ipynb\n",
      "/Users/yijun/Documents/dev_python/python_study/python_study_basic_notebook/draft/python_basic_2/.ipynb_checkpoints/python_basic_L2_lesson14-checkpoint.ipynb\n",
      "/Users/yijun/Documents/dev_python/python_study/python_study_basic_notebook/draft/python_basic_2/lesson 01\n",
      "/Users/yijun/Documents/dev_python/python_study/python_study_basic_notebook/draft/python_basic_2/lesson 01/Basic Exercise A.ipynb\n",
      "/Users/yijun/Documents/dev_python/python_study/python_study_basic_notebook/draft/python_basic_2/lesson 01/python_senior_slides_python_senior_L1_v1.pptx\n",
      "/Users/yijun/Documents/dev_python/python_study/python_study_basic_notebook/draft/python_basic_2/lesson 01/.ipynb_checkpoints\n",
      "/Users/yijun/Documents/dev_python/python_study/python_study_basic_notebook/draft/python_basic_2/lesson 01/.ipynb_checkpoints/senior_demo_L1-checkpoint.ipynb\n",
      "/Users/yijun/Documents/dev_python/python_study/python_study_basic_notebook/draft/python_basic_2/lesson 01/.ipynb_checkpoints/if_advanced_L1-checkpoint.ipynb\n",
      "/Users/yijun/Documents/dev_python/python_study/python_study_basic_notebook/draft/python_basic_2/lesson 01/.ipynb_checkpoints/Basic Exercise A-checkpoint.ipynb\n",
      "/Users/yijun/Documents/dev_python/python_study/python_study_basic_notebook/draft/单元测试 unittest.ipynb\n",
      "/Users/yijun/Documents/dev_python/python_study/python_study_basic_notebook/Python Basic Exercise B.ipynb\n",
      "/Users/yijun/Documents/dev_python/python_study/python_study_basic_notebook/.DS_Store\n",
      "/Users/yijun/Documents/dev_python/python_study/python_study_basic_notebook/窗口界面编程 tk.ipynb\n",
      "/Users/yijun/Documents/dev_python/python_study/python_study_basic_notebook/imgs\n",
      "/Users/yijun/Documents/dev_python/python_study/python_study_basic_notebook/imgs/pycharm.png\n",
      "/Users/yijun/Documents/dev_python/python_study/python_study_basic_notebook/imgs/pycharm_202001.png\n",
      "/Users/yijun/Documents/dev_python/python_study/python_study_basic_notebook/imgs/python_install_5.png\n",
      "/Users/yijun/Documents/dev_python/python_study/python_study_basic_notebook/imgs/.DS_Store\n",
      "/Users/yijun/Documents/dev_python/python_study/python_study_basic_notebook/imgs/guido-headshot-2019.jpg\n",
      "/Users/yijun/Documents/dev_python/python_study/python_study_basic_notebook/imgs/jupyter.png\n",
      "/Users/yijun/Documents/dev_python/python_study/python_study_basic_notebook/imgs/python_install_1.jpeg\n",
      "/Users/yijun/Documents/dev_python/python_study/python_study_basic_notebook/imgs/anaconda.png\n",
      "/Users/yijun/Documents/dev_python/python_study/python_study_basic_notebook/imgs/python_install_2.jpeg\n",
      "/Users/yijun/Documents/dev_python/python_study/python_study_basic_notebook/imgs/python_install_3.jpeg\n",
      "/Users/yijun/Documents/dev_python/python_study/python_study_basic_notebook/imgs/python_install_4.jpeg\n",
      "/Users/yijun/Documents/dev_python/python_study/python_study_basic_notebook/imgs/python_install.jpeg\n",
      "/Users/yijun/Documents/dev_python/python_study/python_study_basic_notebook/imgs_old\n",
      "/Users/yijun/Documents/dev_python/python_study/python_study_basic_notebook/imgs_old/python_use.jpg\n",
      "/Users/yijun/Documents/dev_python/python_study/python_study_basic_notebook/Python Basic Exercise A.ipynb\n",
      "/Users/yijun/Documents/dev_python/python_study/python_study_basic_notebook/Python Basic Lesson 10 - 函数参数和匿名函数.ipynb\n",
      "/Users/yijun/Documents/dev_python/python_study/python_study_basic_notebook/test_thumbnail.jpg\n",
      "/Users/yijun/Documents/dev_python/python_study/python_study_basic_notebook/__pycache__\n",
      "/Users/yijun/Documents/dev_python/python_study/python_study_basic_notebook/__pycache__/parsetab.cpython-37.pyc\n",
      "/Users/yijun/Documents/dev_python/python_study/python_study_basic_notebook/Python Basic Lesson 14 - 访问网络初步和requests包.ipynb\n",
      "/Users/yijun/Documents/dev_python/python_study/python_study_basic_notebook/Python Basic Lesson 06 - 随机数.ipynb\n",
      "/Users/yijun/Documents/dev_python/python_study/python_study_basic_notebook/Python Basic Lesson 02 - 变量, print, input.ipynb\n",
      "/Users/yijun/Documents/dev_python/python_study/python_study_basic_notebook/Python Basic Lesson 04 - 列表 list.ipynb\n",
      "/Users/yijun/Documents/dev_python/python_study/python_study_basic_notebook/Python Basic Lesson 07 - 文件目录操作.ipynb\n",
      "/Users/yijun/Documents/dev_python/python_study/python_study_basic_notebook/Python Basic Lesson 01 - 简介.ipynb\n",
      "/Users/yijun/Documents/dev_python/python_study/python_study_basic_notebook/Python Basic Lesson 13 - 完整的 for 语句结构和 pprint.ipynb\n",
      "/Users/yijun/Documents/dev_python/python_study/python_study_basic_notebook/Python Basic Lesson 11 - 集合库 collections.ipynb\n",
      "/Users/yijun/Documents/dev_python/python_study/python_study_basic_notebook/Python Basic Lesson 12 - 列表生成式.ipynb\n",
      "/Users/yijun/Documents/dev_python/python_study/python_study_basic_notebook/files\n",
      "/Users/yijun/Documents/dev_python/python_study/python_study_basic_notebook/files/ply\n",
      "/Users/yijun/Documents/dev_python/python_study/python_study_basic_notebook/files/ply/parsetab.py\n",
      "/Users/yijun/Documents/dev_python/python_study/python_study_basic_notebook/files/ply/parser.out\n",
      "/Users/yijun/Documents/dev_python/python_study/python_study_basic_notebook/files/ply/calc.py\n",
      "/Users/yijun/Documents/dev_python/python_study/python_study_basic_notebook/files/test2.txt\n",
      "/Users/yijun/Documents/dev_python/python_study/python_study_basic_notebook/files/test_thumbnail.jpg\n",
      "/Users/yijun/Documents/dev_python/python_study/python_study_basic_notebook/files/test_rotate.jpg\n",
      "/Users/yijun/Documents/dev_python/python_study/python_study_basic_notebook/files/test.jpg\n",
      "/Users/yijun/Documents/dev_python/python_study/python_study_basic_notebook/files/list_dump.txt\n",
      "/Users/yijun/Documents/dev_python/python_study/python_study_basic_notebook/files/test_enhance.jpg\n",
      "/Users/yijun/Documents/dev_python/python_study/python_study_basic_notebook/files/test_edge.jpg\n",
      "/Users/yijun/Documents/dev_python/python_study/python_study_basic_notebook/files/test.txt\n",
      "/Users/yijun/Documents/dev_python/python_study/python_study_basic_notebook/files/test_drawline.jpg\n",
      "/Users/yijun/Documents/dev_python/python_study/python_study_basic_notebook/files/test_crop.jpg\n",
      "/Users/yijun/Documents/dev_python/python_study/python_study_basic_notebook/files/test_blur.jpg\n",
      "/Users/yijun/Documents/dev_python/python_study/python_study_basic_notebook/files/baidu_logo.gif\n",
      "/Users/yijun/Documents/dev_python/python_study/python_study_basic_notebook/.ipynb_checkpoints\n",
      "/Users/yijun/Documents/dev_python/python_study/python_study_basic_notebook/.ipynb_checkpoints/Python Basic Lesson 03 - 循环 for, 字符串-checkpoint.ipynb\n",
      "/Users/yijun/Documents/dev_python/python_study/python_study_basic_notebook/.ipynb_checkpoints/Python Basic Lesson 04 - 列表 list -checkpoint.ipynb\n",
      "/Users/yijun/Documents/dev_python/python_study/python_study_basic_notebook/.ipynb_checkpoints/Python Basic Lesson 02 - 变量, print, input-checkpoint.ipynb\n",
      "/Users/yijun/Documents/dev_python/python_study/python_study_basic_notebook/.ipynb_checkpoints/Python Basic Lesson 01 - 简介-checkpoint.ipynb\n",
      "/Users/yijun/Documents/dev_python/python_study/python_study_basic_notebook/.ipynb_checkpoints/Python Basic Lesson 03 - for 循环 range 字符串-checkpoint.ipynb\n",
      "/Users/yijun/Documents/dev_python/python_study/python_study_basic_notebook/.ipynb_checkpoints/Python Basic Lesson 07 - 文件目录操作-checkpoint.ipynb\n",
      "/Users/yijun/Documents/dev_python/python_study/python_study_basic_notebook/.ipynb_checkpoints/Python Basic Lesson 02 Exercise-checkpoint.ipynb\n",
      "/Users/yijun/Documents/dev_python/python_study/python_study_basic_notebook/.ipynb_checkpoints/Python Basic Lesson 02 - 变量 print input-checkpoint.ipynb\n",
      "/Users/yijun/Documents/dev_python/python_study/python_study_basic_notebook/.ipynb_checkpoints/Python Basic Lesson 03 Exercise-checkpoint.ipynb\n",
      "/Users/yijun/Documents/dev_python/python_study/python_study_basic_notebook/.ipynb_checkpoints/Python Basic Lesson 14 - 访问网络初步和requests包-checkpoint.ipynb\n",
      "/Users/yijun/Documents/dev_python/python_study/python_study_basic_notebook/.ipynb_checkpoints/Python Basic Lesson 04 - list -checkpoint.ipynb\n",
      "/Users/yijun/Documents/dev_python/python_study/python_study_basic_notebook/.ipynb_checkpoints/Python Basic Lesson 06 - 随机数-checkpoint.ipynb\n",
      "/Users/yijun/Documents/dev_python/python_study/python_study_basic_notebook/.ipynb_checkpoints/python_basic_lesson_04-checkpoint.ipynb\n",
      "/Users/yijun/Documents/dev_python/python_study/python_study_basic_notebook/.ipynb_checkpoints/Python Basic Lesson 05 - 字典 dict, 元组 tuple -checkpoint.ipynb\n",
      "/Users/yijun/Documents/dev_python/python_study/python_study_basic_notebook/.ipynb_checkpoints/python_basic_lesson_03a-checkpoint.ipynb\n",
      "/Users/yijun/Documents/dev_python/python_study/python_study_basic_notebook/.ipynb_checkpoints/Python Basic Lesson 05 - dict 字典 tuple 元组-checkpoint.ipynb\n",
      "/Users/yijun/Documents/dev_python/python_study/python_study_basic_notebook/.ipynb_checkpoints/Python Basic Lesson 08 - 函数简介-checkpoint.ipynb\n",
      "/Users/yijun/Documents/dev_python/python_study/python_study_basic_notebook/.ipynb_checkpoints/python_basic_lesson_05-checkpoint.ipynb\n",
      "/Users/yijun/Documents/dev_python/python_study/python_study_basic_notebook/Python Basic Lesson 08 - 函数简介.ipynb\n",
      "/Users/yijun/Documents/dev_python/python_study/python_study_basic_notebook/异常处理.ipynb\n",
      "/Users/yijun/Documents/dev_python/python_study/python_study_basic_notebook/Python Basic Lesson 05 - 字典 dict, 元组 tuple.ipynb\n",
      "/Users/yijun/Documents/dev_python/python_study/python_study_basic_notebook/Python Basic Lesson 09 - 日期函数.ipynb\n",
      "/Users/yijun/Documents/dev_python/python_study/python_study_basic_notebook/Python Basic Lesson 16 - 函数式编程.ipynb\n"
     ]
    }
   ],
   "source": [
    "# 遍历一个目录下的所有文件\n",
    "\n",
    "import os \n",
    "\n",
    "def list_dir(root_dir): \n",
    "    for lists in os.listdir(root_dir): \n",
    "        path = os.path.join(root_dir, lists) \n",
    "        print(path)\n",
    "        if os.path.isdir(path): \n",
    "            list_dir(path) \n",
    "\n",
    "# 注意不要挑选目录下过多文件的，否则会耗费电脑资源\n",
    "list_dir(os.getcwd())"
   ]
  },
  {
   "cell_type": "code",
   "execution_count": null,
   "metadata": {},
   "outputs": [
    {
     "name": "stdout",
     "output_type": "stream",
     "text": [
      "C:\\dev_python\\python_study\\python_study_basic_notebook\\draft   4096\n",
      "C:\\dev_python\\python_study\\python_study_basic_notebook\\draft\\Python Basic Lesson 05a.ipynb   4386\n",
      "C:\\dev_python\\python_study\\python_study_basic_notebook\\draft\\python_basic_lesson_04.ipynb   21033\n",
      "C:\\dev_python\\python_study\\python_study_basic_notebook\\draft\\python_basic_lesson_04_exercise.ipynb   6449\n",
      "C:\\dev_python\\python_study\\python_study_basic_notebook\\draft\\python_basic_lesson_05.ipynb   46070\n",
      "C:\\dev_python\\python_study\\python_study_basic_notebook\\draft\\python_basic_lesson_05_exercise.ipynb   3328\n",
      "C:\\dev_python\\python_study\\python_study_basic_notebook\\draft\\python_basic_lesson_06.ipynb   35160\n",
      "C:\\dev_python\\python_study\\python_study_basic_notebook\\draft\\函数的不同参数.ipynb   9128\n",
      "C:\\dev_python\\python_study\\python_study_basic_notebook\\draft\\列表切片.ipynb   4719\n",
      "C:\\dev_python\\python_study\\python_study_basic_notebook\\draft\\匿名函数.ipynb   2241\n",
      "C:\\dev_python\\python_study\\python_study_basic_notebook\\draft\\日期处理.ipynb   9834\n",
      "C:\\dev_python\\python_study\\python_study_basic_notebook\\files   0\n",
      "C:\\dev_python\\python_study\\python_study_basic_notebook\\files\\list_dump.txt   52\n",
      "C:\\dev_python\\python_study\\python_study_basic_notebook\\files\\test.txt   17\n",
      "C:\\dev_python\\python_study\\python_study_basic_notebook\\files\\test2.txt   51\n",
      "C:\\dev_python\\python_study\\python_study_basic_notebook\\imgs   4096\n",
      "C:\\dev_python\\python_study\\python_study_basic_notebook\\imgs\\anaconda.png   834508\n",
      "C:\\dev_python\\python_study\\python_study_basic_notebook\\imgs\\guido-headshot-2019.jpg   566262\n",
      "C:\\dev_python\\python_study\\python_study_basic_notebook\\imgs\\jupyter.png   105782\n",
      "C:\\dev_python\\python_study\\python_study_basic_notebook\\imgs\\pycharm.png   192052\n",
      "C:\\dev_python\\python_study\\python_study_basic_notebook\\imgs\\pycharm_202001.png   370526\n",
      "C:\\dev_python\\python_study\\python_study_basic_notebook\\imgs\\python_install.jpeg   21799\n",
      "C:\\dev_python\\python_study\\python_study_basic_notebook\\imgs\\python_install_1.jpeg   28779\n",
      "C:\\dev_python\\python_study\\python_study_basic_notebook\\imgs\\python_install_2.jpeg   22304\n",
      "C:\\dev_python\\python_study\\python_study_basic_notebook\\imgs\\python_install_3.jpeg   31846\n",
      "C:\\dev_python\\python_study\\python_study_basic_notebook\\imgs\\python_install_4.jpeg   15478\n",
      "C:\\dev_python\\python_study\\python_study_basic_notebook\\imgs\\python_install_5.png   33686\n",
      "C:\\dev_python\\python_study\\python_study_basic_notebook\\imgs_old   0\n",
      "C:\\dev_python\\python_study\\python_study_basic_notebook\\imgs_old\\python_use.jpg   102903\n",
      "C:\\dev_python\\python_study\\python_study_basic_notebook\\Python Basic Exercise A.ipynb   5354\n",
      "C:\\dev_python\\python_study\\python_study_basic_notebook\\Python Basic Exercise B.ipynb   7618\n",
      "C:\\dev_python\\python_study\\python_study_basic_notebook\\Python Basic Lesson 01 - 简介.ipynb   24389\n",
      "C:\\dev_python\\python_study\\python_study_basic_notebook\\Python Basic Lesson 02 - 变量, print, input.ipynb   15027\n",
      "C:\\dev_python\\python_study\\python_study_basic_notebook\\Python Basic Lesson 03 - 循环 for, 字符串.ipynb   11220\n",
      "C:\\dev_python\\python_study\\python_study_basic_notebook\\Python Basic Lesson 04 - 列表 list .ipynb   12606\n",
      "C:\\dev_python\\python_study\\python_study_basic_notebook\\Python Basic Lesson 05 - 字典 dict, 元组 tuple .ipynb   21842\n",
      "C:\\dev_python\\python_study\\python_study_basic_notebook\\Python Basic Lesson 06 - 随机数.ipynb   11817\n",
      "C:\\dev_python\\python_study\\python_study_basic_notebook\\Python Basic Lesson 07 - 文件目录操作.ipynb   41351\n",
      "C:\\dev_python\\python_study\\python_study_basic_notebook\\Python Basic Lesson 08 - 函数.ipynb   11458\n",
      "C:\\dev_python\\python_study\\python_study_basic_notebook\\python_basic_outline.md   1605\n"
     ]
    }
   ],
   "source": [
    "# 遍历一个目录下的所有文件\n",
    "# 显示文件的字节数，用 getsize() \n",
    "\n",
    "import os \n",
    "\n",
    "def list_dir(root_dir): \n",
    "    for lists in os.listdir(root_dir): \n",
    "        path = os.path.join(root_dir, lists) \n",
    "        if lists[0:1] != '.': \n",
    "            filesize = os.path.getsize(path)\n",
    "            print(path, ' ', filesize)\n",
    "            if os.path.isdir(path): \n",
    "                list_dir(path)\n",
    "\n",
    "# 注意不要挑选目录下过多文件的，否则会耗费电脑资源\n",
    "#list_dir('/Users/david.yi/Documents/dev/dig/doc')\n",
    "list_dir(os.getcwd())"
   ]
  },
  {
   "cell_type": "code",
   "execution_count": null,
   "metadata": {},
   "outputs": [
    {
     "name": "stdout",
     "output_type": "stream",
     "text": [
      "C:\\dev_python\\python_study\\python_study_basic_notebook\\Python Basic Exercise A.ipynb   8620\n",
      "C:\\dev_python\\python_study\\python_study_basic_notebook\\Python Basic Exercise B.ipynb   13968\n",
      "C:\\dev_python\\python_study\\python_study_basic_notebook\\Python Basic Lesson 01 - 简介.ipynb   24745\n",
      "C:\\dev_python\\python_study\\python_study_basic_notebook\\Python Basic Lesson 02 - 变量, print, input.ipynb   15893\n",
      "C:\\dev_python\\python_study\\python_study_basic_notebook\\Python Basic Lesson 03 - 循环 for, 字符串.ipynb   11789\n",
      "C:\\dev_python\\python_study\\python_study_basic_notebook\\Python Basic Lesson 04 - 列表 list.ipynb   15143\n",
      "C:\\dev_python\\python_study\\python_study_basic_notebook\\Python Basic Lesson 05 - 字典 dict, 元组 tuple.ipynb   24665\n",
      "C:\\dev_python\\python_study\\python_study_basic_notebook\\Python Basic Lesson 06 - 随机数.ipynb   13111\n",
      "C:\\dev_python\\python_study\\python_study_basic_notebook\\Python Basic Lesson 07 - 文件目录操作.ipynb   55173\n",
      "C:\\dev_python\\python_study\\python_study_basic_notebook\\Python Basic Lesson 08 - 函数简介.ipynb   15008\n",
      "C:\\dev_python\\python_study\\python_study_basic_notebook\\Python Basic Lesson 09 - 日期函数.ipynb   11459\n",
      "C:\\dev_python\\python_study\\python_study_basic_notebook\\Python Basic Lesson 10 - 函数参数和匿名函数.ipynb   14624\n",
      "C:\\dev_python\\python_study\\python_study_basic_notebook\\Python Basic Lesson 11 - 集合库 collections.ipynb   34546\n",
      "C:\\dev_python\\python_study\\python_study_basic_notebook\\Python Basic Lesson 12 - 列表生成式.ipynb   7597\n",
      "C:\\dev_python\\python_study\\python_study_basic_notebook\\Python Basic Lesson 13 - 完整的 for 语句结构和 pprint.ipynb   11247\n",
      "C:\\dev_python\\python_study\\python_study_basic_notebook\\Python Basic Lesson 14 - 访问网络初步和requests包.ipynb   44865\n",
      "C:\\dev_python\\python_study\\python_study_basic_notebook\\Python Basic Lesson 15 - 图片处理 Pillow.ipynb   2806102\n",
      "C:\\dev_python\\python_study\\python_study_basic_notebook\\Python Basic Lesson 16 - 函数式编程.ipynb   16314\n",
      "C:\\dev_python\\python_study\\python_study_basic_notebook\\窗口界面编程 tk.ipynb   2968\n"
     ]
    }
   ],
   "source": [
    "# 遍历一个目录下的所有文件\n",
    "# 过滤 . 开头的文件，一般是系统文件\n",
    "# 显示文件的字节数\n",
    "# 显示指定后缀 ipynb 的文件，引入 endswith 用法\n",
    "\n",
    "import os \n",
    "\n",
    "def list_dir(root_dir): \n",
    "    for lists in os.listdir(root_dir): \n",
    "        path = os.path.join(root_dir, lists) \n",
    "        if lists[0:1] != '.' and lists.endswith('.ipynb'):\n",
    "            filesize = os.path.getsize(path)\n",
    "            print(path, ' ', filesize)\n",
    "            if os.path.isdir(path): \n",
    "                list_dir(path) \n",
    "\n",
    "# 注意不要挑选目录下过多文件的，否则会耗费电脑资源\n",
    "\n",
    "# list_dir('/Users/david.yi/Documents/dev/dig/n_query')\n",
    "list_dir(os.getcwd())"
   ]
  },
  {
   "cell_type": "code",
   "execution_count": null,
   "metadata": {},
   "outputs": [
    {
     "name": "stdout",
     "output_type": "stream",
     "text": [
      "['C:\\\\dev_python\\\\python_study\\\\python_study_basic_notebook\\\\imgs\\\\guido-headshot-2019.jpg', 'C:\\\\dev_python\\\\python_study\\\\python_study_basic_notebook\\\\imgs\\\\python_install.jpeg', 'C:\\\\dev_python\\\\python_study\\\\python_study_basic_notebook\\\\imgs\\\\python_install_1.jpeg', 'C:\\\\dev_python\\\\python_study\\\\python_study_basic_notebook\\\\imgs\\\\python_install_2.jpeg', 'C:\\\\dev_python\\\\python_study\\\\python_study_basic_notebook\\\\imgs\\\\python_install_3.jpeg', 'C:\\\\dev_python\\\\python_study\\\\python_study_basic_notebook\\\\imgs\\\\python_install_4.jpeg', 'C:\\\\dev_python\\\\python_study\\\\python_study_basic_notebook\\\\imgs\\\\anaconda.png', 'C:\\\\dev_python\\\\python_study\\\\python_study_basic_notebook\\\\imgs\\\\jupyter.png', 'C:\\\\dev_python\\\\python_study\\\\python_study_basic_notebook\\\\imgs\\\\pycharm.png', 'C:\\\\dev_python\\\\python_study\\\\python_study_basic_notebook\\\\imgs\\\\pycharm_202001.png', 'C:\\\\dev_python\\\\python_study\\\\python_study_basic_notebook\\\\imgs\\\\python_install_5.png', 'C:\\\\dev_python\\\\python_study\\\\python_study_basic_notebook\\\\imgs_old\\\\python_use.jpg']\n"
     ]
    }
   ],
   "source": [
    "# 写一个可以搜索硬盘上指定路径指定类型的文件\n",
    "# os.walk() 返回一个三元tuple(root, dirnames, filenames)\n",
    "# 第一个为起始路径，String\n",
    "# 第二个为起始路径下的文件夹, List\n",
    "# 第三个是起始路径下的文件. List\n",
    "\n",
    "# fnmatch python自带的文件名模式匹配包\n",
    "# https://docs.python.org/zh-tw/3/library/fnmatch.html\n",
    "import fnmatch\n",
    "import os\n",
    "\n",
    "images = ['*.jpg', '*.jpeg', '*.png', '*.tif', '*.tiff']\n",
    "matches = []\n",
    "\n",
    "# for root, dirnames, filenames in os.walk('/Users/david.yi/Documents/dev/'):\n",
    "for root, dirnames, filenames in os.walk(os.getcwd()):\n",
    "    for extensions in images:\n",
    "        for filename in fnmatch.filter(filenames, extensions):\n",
    "            matches.append(os.path.join(root, filename))\n",
    "\n",
    "print(matches)\n",
    "\n",
    "# import os\n",
    "# for root, dirnames, filenames in os.walk('C:\\\\Users\\\\yimeng.zhang\\\\Desktop\\\\Class\\\\python基础\\\\python_basic'):\n",
    "#     print(filenames)\n"
   ]
  },
  {
   "cell_type": "markdown",
   "metadata": {},
   "source": [
    "---\n",
    "\n",
    "## 文件和目录操作之二\n",
    "\n",
    "读写文件是最常见的IO操作。Python内置了读写文件的函数。\n",
    "\n",
    "读写文件前，我们先必须了解一下，在磁盘上读写文件的功能都是由操作系统提供的，现代操作系统不允许普通的程序直接操作磁盘，所以，读写文件就是请求操作系统打开一个文件对象，然后，通过操作系统提供的接口从这个文件对象中读取数据，或者把数据写入这个文件对象。\n",
    "\n",
    "### 读文件\n",
    "\n",
    "函数 `open()` 返回 文件对象，通常的用法需要两个参数：`open(filename, mode)`。分别是文件名和打开模式\n",
    "\n",
    "在做下面的例子前，我们要创建一个 `test.txt` 文件，并且保证其中的内容是如下样式，包含三行内容：\n",
    "\n",
    "> hello\n",
    "\n",
    "> hi\n",
    "\n",
    "> byebye\n",
    "\n",
    "文件保存在可以访问的目录，我们用到的文件都保存在 notebook 下面的 files 目录；\n",
    "\n",
    "> 使用 jupyter 可以直接新建 Text File，来完成建立和编辑文本文件"
   ]
  },
  {
   "cell_type": "code",
   "execution_count": 82,
   "metadata": {},
   "outputs": [
    {
     "name": "stdout",
     "output_type": "stream",
     "text": [
      "c:\\Users\\dikli\\OneDrive\\学习\\Coding\\Python\\Learn\\BigDataLesson\n",
      "c:\\Users\\dikli\\OneDrive\\学习\\Coding\\Python\\Learn\\BigDataLesson\\test.txt\n",
      "hello\n",
      "hi\n",
      "byebye\n"
     ]
    }
   ],
   "source": [
    "import os\n",
    "\n",
    "# 获得当前路径\n",
    "s_dir = os.getcwd()\n",
    "\n",
    "print(s_dir)\n",
    "\n",
    "# 拼接完整文件名\n",
    "filename = os.path.join(s_dir, 'test.txt')\n",
    "\n",
    "print(filename)\n",
    "\n",
    "# 和读写文件打交道是一件需要小心的事情，这里用了 try-finally 的方式来避免出错\n",
    "try:\n",
    "    # 打开文件\n",
    "    f = open(filename, 'r')\n",
    "    print(f.read())\n",
    "finally:\n",
    "    if f:\n",
    "        f.close()"
   ]
  },
  {
   "cell_type": "code",
   "execution_count": null,
   "metadata": {},
   "outputs": [
    {
     "name": "stdout",
     "output_type": "stream",
     "text": [
      "hello\n",
      "hi\n",
      "byebye\n"
     ]
    }
   ],
   "source": [
    "# 简化调用方式\n",
    "# 省却了 try...finally，会有 with 来自动控制保证可以关闭文件等\n",
    "\n",
    "with open(filename, 'r') as f:\n",
    "    print(f.read())"
   ]
  },
  {
   "cell_type": "code",
   "execution_count": null,
   "metadata": {},
   "outputs": [
    {
     "name": "stdout",
     "output_type": "stream",
     "text": [
      "<class 'list'>\n",
      "['hello\\n', 'hi\\n', 'byebye']\n"
     ]
    }
   ],
   "source": [
    "# 读入文件所有的内容\n",
    "# 这样操作对于一般的文件没啥问题，太大的文件不能这样读，内存会不够\n",
    "\n",
    "with open(filename, 'r') as f:\n",
    "    lines = f.readlines()\n",
    "\n",
    "print(type(lines))\n",
    "print(lines)"
   ]
  },
  {
   "cell_type": "code",
   "execution_count": null,
   "metadata": {},
   "outputs": [
    {
     "name": "stdout",
     "output_type": "stream",
     "text": [
      "hello\n",
      "\n",
      "hi\n",
      "\n",
      "byebye\n"
     ]
    }
   ],
   "source": [
    "# 把读入的文件显示出来\n",
    "\n",
    "for i in lines:\n",
    "    print(i)"
   ]
  },
  {
   "cell_type": "code",
   "execution_count": null,
   "metadata": {},
   "outputs": [
    {
     "name": "stdout",
     "output_type": "stream",
     "text": [
      "hello\n",
      "\n",
      "hi\n",
      "\n",
      "byebye\n"
     ]
    }
   ],
   "source": [
    "# 更简单的按行读取文件内容方法\n",
    "\n",
    "with open(filename, 'r') as f:\n",
    "    for eachline in f:\n",
    "        print(eachline)"
   ]
  },
  {
   "cell_type": "markdown",
   "metadata": {},
   "source": [
    "---\n",
    "\n",
    "### 写文件\n",
    "\n",
    "写文件和读文件是一样的，唯一区别是调用 `open()` 函数时，传入标识符 `'w'` 或者 `'wb'` 表示写文本文件或写二进制文件。\n",
    "\n",
    "r 以读方式打开\n",
    "w 以写方式打开\n",
    "a 以追加模式打开（必要时候创建新文件）"
   ]
  },
  {
   "cell_type": "code",
   "execution_count": 94,
   "metadata": {},
   "outputs": [
    {
     "name": "stdout",
     "output_type": "stream",
     "text": [
      "c:\\Users\\dikli\\OneDrive\\学习\\Coding\\Python\\Learn\\BigDataLesson\\test2.txt\n",
      "Hello, World!\n",
      "\n",
      "Hello, Shanghai!\n",
      "\n",
      "Hello, CHINA!\n",
      "\n",
      "Hello, World!\n",
      "\n",
      "Hello, Shanghai!\n",
      "\n",
      "Hello, CHINA!\n",
      "\n",
      "Hello, World!\n",
      "\n",
      ",Hello, Shanghai!\n",
      "\n",
      ",Hello, CHINA!\n",
      "\n",
      "\n"
     ]
    }
   ],
   "source": [
    "# 写文件\n",
    "import os\n",
    "\n",
    "# 获得当前路径\n",
    "s_dir = os.getcwd()\n",
    "\n",
    "# 拼接完整文件名\n",
    "filename= os.path.join(s_dir, 'test2.txt')\n",
    "print(filename)\n",
    "\n",
    "# 换行符\n",
    "br = os.linesep\n",
    "\n",
    "# 写文件\n",
    "with open(filename, 'w') as f:\n",
    "    f.write('Hello, World!' + br)\n",
    "    f.write('Hello, Shanghai!' + br)\n",
    "    f.write('Hello, CHINA!' + br)\n",
    "    f.writelines(['Hello, World!' + br, 'Hello, Shanghai!' + br, 'Hello, CHINA!' + br])\n",
    "    f.write(','.join(['Hello, World!' + br, 'Hello, Shanghai!' + br, 'Hello, CHINA!' + br]))\n",
    "\n",
    "with open(filename, 'r') as f:\n",
    "    print(f.read())"
   ]
  },
  {
   "cell_type": "markdown",
   "metadata": {},
   "source": [
    "### 操作系统和文件系统差异处理\n",
    "\n",
    "如果要写一个 windows 和 macOS 都能用的文件处理软件，很多时候要考虑操作系统带来的差异\n",
    "\n",
    "* `linesep` 文件中分隔行的字符串；\n",
    "* `path.sep` 分割文件路径名的字符串；\n",
    "* `curdir` 当前工作目录的字符串；\n",
    "* `pardir` 当前工作目录的父目录字符串；"
   ]
  },
  {
   "cell_type": "code",
   "execution_count": 95,
   "metadata": {},
   "outputs": [
    {
     "name": "stdout",
     "output_type": "stream",
     "text": [
      "dict_keys(['a', 'b', 'c'])\n",
      "dict_values(['a', 'b', 'c'])\n",
      "dict_items([('a', 'a'), ('b', 'b'), ('c', 'c')])\n"
     ]
    }
   ],
   "source": [
    "a={'a':'a','b':'b','c':'c'}\n",
    "print(a.keys())\n",
    "print(a.values())\n",
    "print(a.items())"
   ]
  },
  {
   "cell_type": "code",
   "execution_count": 110,
   "metadata": {},
   "outputs": [
    {
     "name": "stdout",
     "output_type": "stream",
     "text": [
      "a\n",
      "b\n"
     ]
    }
   ],
   "source": [
    "def test1():\n",
    "    a=1\n",
    "    return 1,2,3\n",
    "\n",
    "class A():\n",
    "    aaa='a'\n",
    "    def __init__(self) -> None:\n",
    "        self.b='b'\n",
    "    \n",
    "    def get(self):\n",
    "        c='a'\n",
    "        print(getattr(self,f'{c}'))\n",
    "        \n",
    "a=A()\n",
    "a.get()\n",
    "# print(a.a)\n",
    "print(a.aaa)\n",
    "a={}"
   ]
  },
  {
   "cell_type": "code",
   "execution_count": null,
   "metadata": {},
   "outputs": [],
   "source": []
  }
 ],
 "metadata": {
  "kernelspec": {
   "display_name": "algorithm",
   "language": "python",
   "name": "python3"
  },
  "language_info": {
   "codemirror_mode": {
    "name": "ipython",
    "version": 3
   },
   "file_extension": ".py",
   "mimetype": "text/x-python",
   "name": "python",
   "nbconvert_exporter": "python",
   "pygments_lexer": "ipython3",
   "version": "3.10.2"
  },
  "orig_nbformat": 4,
  "vscode": {
   "interpreter": {
    "hash": "0b9b1eea92fa5406da4b6856631a03c7281352a94acb3be925a05985f7dace9d"
   }
  }
 },
 "nbformat": 4,
 "nbformat_minor": 2
}
